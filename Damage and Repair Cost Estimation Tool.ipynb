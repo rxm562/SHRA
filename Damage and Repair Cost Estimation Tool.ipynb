{
 "cells": [
  {
   "cell_type": "markdown",
   "metadata": {},
   "source": [
    "#### This notebook estimates damage ratio and repair cost for buildings using damage outcomes from Hurricane Damage Simulation"
   ]
  },
  {
   "cell_type": "code",
   "execution_count": 1,
   "metadata": {},
   "outputs": [],
   "source": [
    "import pandas as pd\n",
    "import numpy as np\n",
    "import matplotlib.pylab as plt\n",
    "dmg=pd.read_csv('sample_data.csv')\n",
    "import numpy as np\n",
    "import pandas as pd\n",
    "import matplotlib\n",
    "import matplotlib.pyplot as plt\n",
    "import matplotlib.patches as mpatches"
   ]
  },
  {
   "cell_type": "code",
   "execution_count": 2,
   "metadata": {},
   "outputs": [],
   "source": [
    "np.random.seed(1234)"
   ]
  },
  {
   "cell_type": "code",
   "execution_count": 3,
   "metadata": {},
   "outputs": [
    {
     "data": {
      "text/html": [
       "<div>\n",
       "<style scoped>\n",
       "    .dataframe tbody tr th:only-of-type {\n",
       "        vertical-align: middle;\n",
       "    }\n",
       "\n",
       "    .dataframe tbody tr th {\n",
       "        vertical-align: top;\n",
       "    }\n",
       "\n",
       "    .dataframe thead th {\n",
       "        text-align: right;\n",
       "    }\n",
       "</style>\n",
       "<table border=\"1\" class=\"dataframe\">\n",
       "  <thead>\n",
       "    <tr style=\"text-align: right;\">\n",
       "      <th></th>\n",
       "      <th>id</th>\n",
       "      <th>x</th>\n",
       "      <th>y</th>\n",
       "      <th>idt</th>\n",
       "      <th>taxval</th>\n",
       "      <th>landuse</th>\n",
       "      <th>yearbuilt</th>\n",
       "      <th>storey</th>\n",
       "      <th>Str_old</th>\n",
       "      <th>Structures</th>\n",
       "      <th>type</th>\n",
       "      <th>Area_ft2</th>\n",
       "      <th>o_mph</th>\n",
       "      <th>o_DS1</th>\n",
       "      <th>o_DS2</th>\n",
       "      <th>o_DS3</th>\n",
       "      <th>o_DS4</th>\n",
       "      <th>o_dmg</th>\n",
       "    </tr>\n",
       "  </thead>\n",
       "  <tbody>\n",
       "    <tr>\n",
       "      <th>0</th>\n",
       "      <td>64590</td>\n",
       "      <td>-77.211</td>\n",
       "      <td>34.669</td>\n",
       "      <td>37754</td>\n",
       "      <td>131940</td>\n",
       "      <td>Residential</td>\n",
       "      <td>2004</td>\n",
       "      <td>1</td>\n",
       "      <td>Single Family</td>\n",
       "      <td>Single Family</td>\n",
       "      <td>A58</td>\n",
       "      <td>2219.860665</td>\n",
       "      <td>146.74</td>\n",
       "      <td>0.968</td>\n",
       "      <td>0.765</td>\n",
       "      <td>0.552</td>\n",
       "      <td>0.501</td>\n",
       "      <td>4</td>\n",
       "    </tr>\n",
       "  </tbody>\n",
       "</table>\n",
       "</div>"
      ],
      "text/plain": [
       "      id       x       y    idt  taxval      landuse  yearbuilt  storey  \\\n",
       "0  64590 -77.211  34.669  37754  131940  Residential       2004       1   \n",
       "\n",
       "         Str_old     Structures type     Area_ft2   o_mph  o_DS1  o_DS2  \\\n",
       "0  Single Family  Single Family  A58  2219.860665  146.74  0.968  0.765   \n",
       "\n",
       "   o_DS3  o_DS4  o_dmg  \n",
       "0  0.552  0.501      4  "
      ]
     },
     "execution_count": 3,
     "metadata": {},
     "output_type": "execute_result"
    }
   ],
   "source": [
    "dmg.head(1)"
   ]
  },
  {
   "cell_type": "markdown",
   "metadata": {},
   "source": [
    "#### Damage Ratio Estimation Based on Proposed Model"
   ]
  },
  {
   "cell_type": "code",
   "execution_count": 4,
   "metadata": {},
   "outputs": [],
   "source": [
    "DR=list()\n",
    "for index, row in dmg.iterrows():\n",
    "    state = row['o_dmg']\n",
    "    taxv= row['taxval']\n",
    "    if state==1:\n",
    "        dr=(np.random.normal(0.02, 0.001, 1)).mean()\n",
    "    elif state==2:\n",
    "        dr=(np.random.normal(0.10, 0.005, 1)).mean()\n",
    "    elif state==3:\n",
    "        dr=(np.random.normal(0.50, 0.025, 1)).mean()\n",
    "    elif state==4:\n",
    "        e=(np.random.normal(1.00, 0.050, 1)).mean()\n",
    "        if e>1.0:\n",
    "            dr=1.0\n",
    "        else:\n",
    "            dr=e\n",
    "    else:\n",
    "        dr=0\n",
    "    dr\n",
    "    DR.append(dr)"
   ]
  },
  {
   "cell_type": "markdown",
   "metadata": {},
   "source": [
    "#### Repair Cost Estimation Based on Proposed Model"
   ]
  },
  {
   "cell_type": "code",
   "execution_count": 5,
   "metadata": {},
   "outputs": [],
   "source": [
    "RCost=list()\n",
    "for index, row in dmg.iterrows():\n",
    "    state = row['o_dmg']\n",
    "    taxv= row['taxval']\n",
    "    if state==1:\n",
    "        cost=(np.random.normal(0.02, 0.001, 1)).mean()*taxv\n",
    "    elif state==2:\n",
    "        cost=(np.random.normal(0.10, 0.005, 1)).mean()*taxv\n",
    "    elif state==3:\n",
    "        cost=(np.random.normal(0.50, 0.025, 1)).mean()*taxv\n",
    "    elif state==4:\n",
    "        e=(np.random.normal(1.00, 0.050, 1)).mean()\n",
    "        if e>1.0:\n",
    "            cost=1.0*taxv\n",
    "        else:\n",
    "            cost=e*taxv\n",
    "    else:\n",
    "        cost=0*taxv\n",
    "    cost\n",
    "    RCost.append(cost)"
   ]
  },
  {
   "cell_type": "code",
   "execution_count": 6,
   "metadata": {},
   "outputs": [
    {
     "data": {
      "text/plain": [
       "114.76487922560773"
      ]
     },
     "execution_count": 6,
     "metadata": {},
     "output_type": "execute_result"
    }
   ],
   "source": [
    "#Total Cost in Millon $USD\n",
    "sum(RCost)/1000000"
   ]
  },
  {
   "cell_type": "code",
   "execution_count": 7,
   "metadata": {},
   "outputs": [],
   "source": [
    "# Creating Pandas DataFrame with Damage Ratio and Repair \n",
    "ID=list(dmg.id)\n",
    "DR= list(DR)\n",
    "RCost= list(RCost)\n",
    "pd_new = {'id_new':ID,'DRatio':DR, 'R_Cost':RCost}\n",
    "df=pd.DataFrame(pd_new)"
   ]
  },
  {
   "cell_type": "code",
   "execution_count": null,
   "metadata": {},
   "outputs": [],
   "source": []
  },
  {
   "cell_type": "code",
   "execution_count": 8,
   "metadata": {},
   "outputs": [
    {
     "data": {
      "text/html": [
       "<div>\n",
       "<style scoped>\n",
       "    .dataframe tbody tr th:only-of-type {\n",
       "        vertical-align: middle;\n",
       "    }\n",
       "\n",
       "    .dataframe tbody tr th {\n",
       "        vertical-align: top;\n",
       "    }\n",
       "\n",
       "    .dataframe thead th {\n",
       "        text-align: right;\n",
       "    }\n",
       "</style>\n",
       "<table border=\"1\" class=\"dataframe\">\n",
       "  <thead>\n",
       "    <tr style=\"text-align: right;\">\n",
       "      <th></th>\n",
       "      <th>id_new</th>\n",
       "      <th>DRatio</th>\n",
       "      <th>R_Cost</th>\n",
       "    </tr>\n",
       "  </thead>\n",
       "  <tbody>\n",
       "    <tr>\n",
       "      <th>0</th>\n",
       "      <td>64590</td>\n",
       "      <td>1.000000</td>\n",
       "      <td>131940.000000</td>\n",
       "    </tr>\n",
       "    <tr>\n",
       "      <th>1</th>\n",
       "      <td>120592</td>\n",
       "      <td>0.094045</td>\n",
       "      <td>12101.434082</td>\n",
       "    </tr>\n",
       "    <tr>\n",
       "      <th>2</th>\n",
       "      <td>89645</td>\n",
       "      <td>1.000000</td>\n",
       "      <td>473785.799254</td>\n",
       "    </tr>\n",
       "    <tr>\n",
       "      <th>3</th>\n",
       "      <td>47967</td>\n",
       "      <td>0.019687</td>\n",
       "      <td>3300.221655</td>\n",
       "    </tr>\n",
       "    <tr>\n",
       "      <th>4</th>\n",
       "      <td>47972</td>\n",
       "      <td>0.019279</td>\n",
       "      <td>3450.579906</td>\n",
       "    </tr>\n",
       "  </tbody>\n",
       "</table>\n",
       "</div>"
      ],
      "text/plain": [
       "   id_new    DRatio         R_Cost\n",
       "0   64590  1.000000  131940.000000\n",
       "1  120592  0.094045   12101.434082\n",
       "2   89645  1.000000  473785.799254\n",
       "3   47967  0.019687    3300.221655\n",
       "4   47972  0.019279    3450.579906"
      ]
     },
     "execution_count": 8,
     "metadata": {},
     "output_type": "execute_result"
    }
   ],
   "source": [
    "df.head()"
   ]
  },
  {
   "cell_type": "code",
   "execution_count": 9,
   "metadata": {},
   "outputs": [],
   "source": [
    "Dmg_New=dmg.merge(df, left_on='id', right_on='id_new')"
   ]
  },
  {
   "cell_type": "code",
   "execution_count": 10,
   "metadata": {},
   "outputs": [
    {
     "data": {
      "text/html": [
       "<div>\n",
       "<style scoped>\n",
       "    .dataframe tbody tr th:only-of-type {\n",
       "        vertical-align: middle;\n",
       "    }\n",
       "\n",
       "    .dataframe tbody tr th {\n",
       "        vertical-align: top;\n",
       "    }\n",
       "\n",
       "    .dataframe thead th {\n",
       "        text-align: right;\n",
       "    }\n",
       "</style>\n",
       "<table border=\"1\" class=\"dataframe\">\n",
       "  <thead>\n",
       "    <tr style=\"text-align: right;\">\n",
       "      <th></th>\n",
       "      <th>id</th>\n",
       "      <th>x</th>\n",
       "      <th>y</th>\n",
       "      <th>idt</th>\n",
       "      <th>taxval</th>\n",
       "      <th>landuse</th>\n",
       "      <th>yearbuilt</th>\n",
       "      <th>storey</th>\n",
       "      <th>Str_old</th>\n",
       "      <th>Structures</th>\n",
       "      <th>...</th>\n",
       "      <th>Area_ft2</th>\n",
       "      <th>o_mph</th>\n",
       "      <th>o_DS1</th>\n",
       "      <th>o_DS2</th>\n",
       "      <th>o_DS3</th>\n",
       "      <th>o_DS4</th>\n",
       "      <th>o_dmg</th>\n",
       "      <th>id_new</th>\n",
       "      <th>DRatio</th>\n",
       "      <th>R_Cost</th>\n",
       "    </tr>\n",
       "  </thead>\n",
       "  <tbody>\n",
       "    <tr>\n",
       "      <th>0</th>\n",
       "      <td>64590</td>\n",
       "      <td>-77.211</td>\n",
       "      <td>34.669</td>\n",
       "      <td>37754</td>\n",
       "      <td>131940</td>\n",
       "      <td>Residential</td>\n",
       "      <td>2004</td>\n",
       "      <td>1</td>\n",
       "      <td>Single Family</td>\n",
       "      <td>Single Family</td>\n",
       "      <td>...</td>\n",
       "      <td>2219.860665</td>\n",
       "      <td>146.74</td>\n",
       "      <td>0.968</td>\n",
       "      <td>0.765</td>\n",
       "      <td>0.552</td>\n",
       "      <td>0.501</td>\n",
       "      <td>4</td>\n",
       "      <td>64590</td>\n",
       "      <td>1.000000</td>\n",
       "      <td>131940.000000</td>\n",
       "    </tr>\n",
       "    <tr>\n",
       "      <th>1</th>\n",
       "      <td>120592</td>\n",
       "      <td>-77.374</td>\n",
       "      <td>34.768</td>\n",
       "      <td>45542</td>\n",
       "      <td>133340</td>\n",
       "      <td>Residential</td>\n",
       "      <td>1988</td>\n",
       "      <td>1</td>\n",
       "      <td>Single Family</td>\n",
       "      <td>Single Family</td>\n",
       "      <td>...</td>\n",
       "      <td>2783.299933</td>\n",
       "      <td>134.30</td>\n",
       "      <td>0.837</td>\n",
       "      <td>0.394</td>\n",
       "      <td>0.112</td>\n",
       "      <td>0.065</td>\n",
       "      <td>2</td>\n",
       "      <td>120592</td>\n",
       "      <td>0.094045</td>\n",
       "      <td>12101.434082</td>\n",
       "    </tr>\n",
       "    <tr>\n",
       "      <th>2</th>\n",
       "      <td>89645</td>\n",
       "      <td>-77.160</td>\n",
       "      <td>34.682</td>\n",
       "      <td>53669</td>\n",
       "      <td>492240</td>\n",
       "      <td>Waterfront River/Creek</td>\n",
       "      <td>2001</td>\n",
       "      <td>1</td>\n",
       "      <td>Single Family</td>\n",
       "      <td>Single Family</td>\n",
       "      <td>...</td>\n",
       "      <td>3483.491410</td>\n",
       "      <td>147.42</td>\n",
       "      <td>0.946</td>\n",
       "      <td>0.682</td>\n",
       "      <td>0.364</td>\n",
       "      <td>0.286</td>\n",
       "      <td>4</td>\n",
       "      <td>89645</td>\n",
       "      <td>1.000000</td>\n",
       "      <td>473785.799254</td>\n",
       "    </tr>\n",
       "    <tr>\n",
       "      <th>3</th>\n",
       "      <td>47967</td>\n",
       "      <td>-77.444</td>\n",
       "      <td>34.800</td>\n",
       "      <td>68961</td>\n",
       "      <td>167250</td>\n",
       "      <td>Residential</td>\n",
       "      <td>2007</td>\n",
       "      <td>1</td>\n",
       "      <td>Single Family</td>\n",
       "      <td>Single Family</td>\n",
       "      <td>...</td>\n",
       "      <td>2672.812928</td>\n",
       "      <td>129.69</td>\n",
       "      <td>0.756</td>\n",
       "      <td>0.276</td>\n",
       "      <td>0.065</td>\n",
       "      <td>0.051</td>\n",
       "      <td>1</td>\n",
       "      <td>47967</td>\n",
       "      <td>0.019687</td>\n",
       "      <td>3300.221655</td>\n",
       "    </tr>\n",
       "    <tr>\n",
       "      <th>4</th>\n",
       "      <td>47972</td>\n",
       "      <td>-77.444</td>\n",
       "      <td>34.800</td>\n",
       "      <td>68961</td>\n",
       "      <td>167250</td>\n",
       "      <td>Residential</td>\n",
       "      <td>2007</td>\n",
       "      <td>1</td>\n",
       "      <td>Single Family</td>\n",
       "      <td>Single Family</td>\n",
       "      <td>...</td>\n",
       "      <td>2623.873118</td>\n",
       "      <td>129.68</td>\n",
       "      <td>0.756</td>\n",
       "      <td>0.276</td>\n",
       "      <td>0.065</td>\n",
       "      <td>0.051</td>\n",
       "      <td>1</td>\n",
       "      <td>47972</td>\n",
       "      <td>0.019279</td>\n",
       "      <td>3450.579906</td>\n",
       "    </tr>\n",
       "  </tbody>\n",
       "</table>\n",
       "<p>5 rows × 21 columns</p>\n",
       "</div>"
      ],
      "text/plain": [
       "       id       x       y    idt  taxval                 landuse  yearbuilt  \\\n",
       "0   64590 -77.211  34.669  37754  131940             Residential       2004   \n",
       "1  120592 -77.374  34.768  45542  133340             Residential       1988   \n",
       "2   89645 -77.160  34.682  53669  492240  Waterfront River/Creek       2001   \n",
       "3   47967 -77.444  34.800  68961  167250             Residential       2007   \n",
       "4   47972 -77.444  34.800  68961  167250             Residential       2007   \n",
       "\n",
       "   storey        Str_old     Structures  ...     Area_ft2   o_mph  o_DS1  \\\n",
       "0       1  Single Family  Single Family  ...  2219.860665  146.74  0.968   \n",
       "1       1  Single Family  Single Family  ...  2783.299933  134.30  0.837   \n",
       "2       1  Single Family  Single Family  ...  3483.491410  147.42  0.946   \n",
       "3       1  Single Family  Single Family  ...  2672.812928  129.69  0.756   \n",
       "4       1  Single Family  Single Family  ...  2623.873118  129.68  0.756   \n",
       "\n",
       "   o_DS2  o_DS3  o_DS4  o_dmg  id_new    DRatio         R_Cost  \n",
       "0  0.765  0.552  0.501      4   64590  1.000000  131940.000000  \n",
       "1  0.394  0.112  0.065      2  120592  0.094045   12101.434082  \n",
       "2  0.682  0.364  0.286      4   89645  1.000000  473785.799254  \n",
       "3  0.276  0.065  0.051      1   47967  0.019687    3300.221655  \n",
       "4  0.276  0.065  0.051      1   47972  0.019279    3450.579906  \n",
       "\n",
       "[5 rows x 21 columns]"
      ]
     },
     "execution_count": 10,
     "metadata": {},
     "output_type": "execute_result"
    }
   ],
   "source": [
    "Dmg_New.head()"
   ]
  },
  {
   "cell_type": "code",
   "execution_count": 11,
   "metadata": {},
   "outputs": [
    {
     "data": {
      "image/png": "[encoded data removed]",
      "text/plain": [
       "<Figure size 360x288 with 2 Axes>"
      ]
     },
     "metadata": {
      "needs_background": "light"
     },
     "output_type": "display_data"
    }
   ],
   "source": [
    "#Plot Damage Ratio\n",
    "x = Dmg_New.x*1\n",
    "y = Dmg_New.y\n",
    "fig = plt.figure(figsize=(5,4))\n",
    "plt.scatter(x, y, c=Dmg_New.DRatio, s=1)\n",
    "plt.winter()\n",
    "plt.colorbar(label='Damage Ratio')\n",
    "plt.xlabel('longitude')\n",
    "plt.ylabel('latitude')\n",
    "plt.title('Onslow County: Damage Ratio');\n",
    "plt.show()"
   ]
  },
  {
   "cell_type": "code",
   "execution_count": 12,
   "metadata": {},
   "outputs": [
    {
     "data": {
      "image/png": "[encoded data removed]",
      "text/plain": [
       "<Figure size 360x288 with 2 Axes>"
      ]
     },
     "metadata": {
      "needs_background": "light"
     },
     "output_type": "display_data"
    }
   ],
   "source": [
    "#Plot Repair Cost for Buildings\n",
    "import numpy as np\n",
    "import matplotlib.pyplot as plt\n",
    "x = Dmg_New.x*1\n",
    "y = Dmg_New.y\n",
    "fig = plt.figure(figsize=(5,4))\n",
    "plt.scatter(x, y, c=Dmg_New.R_Cost, s=1)\n",
    "plt.spring()\n",
    "plt.colorbar(label='Repair Cost($)')\n",
    "plt.xlabel('longitude')\n",
    "plt.ylabel('latitude')\n",
    "plt.title('Onslow County: Building Repair Cost');\n",
    "plt.show()"
   ]
  },
  {
   "cell_type": "code",
   "execution_count": 13,
   "metadata": {},
   "outputs": [],
   "source": [
    "# Write the Output to CSV\n",
    "Dmg_New.R_Cost.to_csv('DR_RC.csv')"
   ]
  }
 ],
 "metadata": {
  "kernelspec": {
   "display_name": "Python 3 (ipykernel)",
   "language": "python",
   "name": "python3"
  },
  "language_info": {
   "codemirror_mode": {
    "name": "ipython",
    "version": 3
   },
   "file_extension": ".py",
   "mimetype": "text/x-python",
   "name": "python",
   "nbconvert_exporter": "python",
   "pygments_lexer": "ipython3",
   "version": "3.9.7"
  }
 },
 "nbformat": 4,
 "nbformat_minor": 4
}
