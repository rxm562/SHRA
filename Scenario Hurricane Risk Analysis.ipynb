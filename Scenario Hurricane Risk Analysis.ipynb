{
 "cells": [
  {
   "cell_type": "markdown",
   "metadata": {},
   "source": [
    "### Scnario Hurricane Risk Analysis\n",
    "This notebook "
   ]
  },
  {
   "cell_type": "code",
   "execution_count": 281,
   "metadata": {},
   "outputs": [],
   "source": [
    "import pandas as pd\n",
    "import numpy as np\n",
    "import matplotlib.pylab as plt\n",
    "import sp\n",
    "import networkx as nx\n",
    "import matplotlib\n",
    "import matplotlib.pyplot as plt\n",
    "import matplotlib.patches as mpatches\n",
    "from scipy.spatial import distance\n",
    "from scipy.stats import expon, lognorm\n",
    "from sp.Intensity import Intensity\n",
    "from sp.PFragility import plot_FC"
   ]
  },
  {
   "cell_type": "code",
   "execution_count": 282,
   "metadata": {},
   "outputs": [],
   "source": [
    "# import Historical hurricane data (e.g.,HURDAT2)\n",
    "data=pd.read_csv('hel_org.csv')"
   ]
  },
  {
   "cell_type": "code",
   "execution_count": 283,
   "metadata": {},
   "outputs": [
    {
     "data": {
      "text/html": [
       "<div>\n",
       "<style scoped>\n",
       "    .dataframe tbody tr th:only-of-type {\n",
       "        vertical-align: middle;\n",
       "    }\n",
       "\n",
       "    .dataframe tbody tr th {\n",
       "        vertical-align: top;\n",
       "    }\n",
       "\n",
       "    .dataframe thead th {\n",
       "        text-align: right;\n",
       "    }\n",
       "</style>\n",
       "<table border=\"1\" class=\"dataframe\">\n",
       "  <thead>\n",
       "    <tr style=\"text-align: right;\">\n",
       "      <th></th>\n",
       "      <th>Sl</th>\n",
       "      <th>Time</th>\n",
       "      <th>Lat</th>\n",
       "      <th>Long</th>\n",
       "      <th>CP</th>\n",
       "    </tr>\n",
       "  </thead>\n",
       "  <tbody>\n",
       "    <tr>\n",
       "      <th>0</th>\n",
       "      <td>1</td>\n",
       "      <td>0.0</td>\n",
       "      <td>31.60</td>\n",
       "      <td>78.30</td>\n",
       "      <td>943.00</td>\n",
       "    </tr>\n",
       "    <tr>\n",
       "      <th>1</th>\n",
       "      <td>2</td>\n",
       "      <td>0.5</td>\n",
       "      <td>31.66</td>\n",
       "      <td>78.33</td>\n",
       "      <td>942.17</td>\n",
       "    </tr>\n",
       "    <tr>\n",
       "      <th>2</th>\n",
       "      <td>3</td>\n",
       "      <td>1.0</td>\n",
       "      <td>31.72</td>\n",
       "      <td>78.35</td>\n",
       "      <td>941.33</td>\n",
       "    </tr>\n",
       "    <tr>\n",
       "      <th>3</th>\n",
       "      <td>4</td>\n",
       "      <td>1.5</td>\n",
       "      <td>31.78</td>\n",
       "      <td>78.38</td>\n",
       "      <td>940.50</td>\n",
       "    </tr>\n",
       "    <tr>\n",
       "      <th>4</th>\n",
       "      <td>5</td>\n",
       "      <td>2.0</td>\n",
       "      <td>31.83</td>\n",
       "      <td>78.40</td>\n",
       "      <td>939.67</td>\n",
       "    </tr>\n",
       "  </tbody>\n",
       "</table>\n",
       "</div>"
      ],
      "text/plain": [
       "   Sl  Time    Lat   Long      CP\n",
       "0   1   0.0  31.60  78.30  943.00\n",
       "1   2   0.5  31.66  78.33  942.17\n",
       "2   3   1.0  31.72  78.35  941.33\n",
       "3   4   1.5  31.78  78.38  940.50\n",
       "4   5   2.0  31.83  78.40  939.67"
      ]
     },
     "execution_count": 283,
     "metadata": {},
     "output_type": "execute_result"
    }
   ],
   "source": [
    "data.head()"
   ]
  },
  {
   "cell_type": "markdown",
   "metadata": {},
   "source": [
    "#### Estimating Hazard Parameters"
   ]
  },
  {
   "cell_type": "code",
   "execution_count": 284,
   "metadata": {},
   "outputs": [],
   "source": [
    "Lat1=list()\n",
    "Long1=list()\n",
    "CP1=list()\n",
    "Δp1=list()\n",
    "Rmax1=list()\n",
    "B1=list()\n",
    "ρ1=list()\n",
    "Ω1=list()\n",
    "for index, row in data.iterrows():\n",
    "        Lat = row['Lat']\n",
    "        Long = row['Long']\n",
    "        CP = row['CP']\n",
    "        Time= row['Time']\n",
    "        Δp=1013-CP\n",
    "        Rmax=np.exp(2.556-0.000050255*(float(Δp)**2)+0.042243032*float(Lat))\n",
    "        B=1.881-0.00557*Rmax-0.01097*float(Lat)\n",
    "        Lat1.append(Lat)\n",
    "        Long1.append(Long)\n",
    "        CP1.append(CP)\n",
    "        Δp1.append(Δp)\n",
    "        Rmax1.append(Rmax)\n",
    "        B1.append(B)\n",
    "        ρ=1.15\n",
    "        Ω=0.00007292\n",
    "        ρ1.append(ρ)\n",
    "        Ω1.append(Ω)"
   ]
  },
  {
   "cell_type": "code",
   "execution_count": 285,
   "metadata": {},
   "outputs": [],
   "source": [
    "Lat=list(Lat1)\n",
    "Long= list(Long1)\n",
    "CP= list(CP1)\n",
    "Δp= list(Δp1)\n",
    "Rmax=list(Rmax1)\n",
    "B=list(B1)\n",
    "ρ= list(ρ1)\n",
    "Ω= list(Ω1)\n",
    "pf = {'Lat':Lat,'Long':Long, 'CP':CP,'Δp':Δp,'Rmax':Rmax,'B':B,'ρ':ρ, 'Ω':Ω}\n",
    "n=pd.DataFrame(pf)"
   ]
  },
  {
   "cell_type": "code",
   "execution_count": 286,
   "metadata": {},
   "outputs": [
    {
     "data": {
      "text/html": [
       "<div>\n",
       "<style scoped>\n",
       "    .dataframe tbody tr th:only-of-type {\n",
       "        vertical-align: middle;\n",
       "    }\n",
       "\n",
       "    .dataframe tbody tr th {\n",
       "        vertical-align: top;\n",
       "    }\n",
       "\n",
       "    .dataframe thead th {\n",
       "        text-align: right;\n",
       "    }\n",
       "</style>\n",
       "<table border=\"1\" class=\"dataframe\">\n",
       "  <thead>\n",
       "    <tr style=\"text-align: right;\">\n",
       "      <th></th>\n",
       "      <th>Lat</th>\n",
       "      <th>Long</th>\n",
       "      <th>CP</th>\n",
       "      <th>Δp</th>\n",
       "      <th>Rmax</th>\n",
       "      <th>B</th>\n",
       "      <th>ρ</th>\n",
       "      <th>Ω</th>\n",
       "    </tr>\n",
       "  </thead>\n",
       "  <tbody>\n",
       "    <tr>\n",
       "      <th>0</th>\n",
       "      <td>31.60</td>\n",
       "      <td>78.30</td>\n",
       "      <td>943.00</td>\n",
       "      <td>70.00</td>\n",
       "      <td>38.268623</td>\n",
       "      <td>1.321192</td>\n",
       "      <td>1.15</td>\n",
       "      <td>0.000073</td>\n",
       "    </tr>\n",
       "    <tr>\n",
       "      <th>1</th>\n",
       "      <td>31.66</td>\n",
       "      <td>78.33</td>\n",
       "      <td>942.17</td>\n",
       "      <td>70.83</td>\n",
       "      <td>38.141031</td>\n",
       "      <td>1.321244</td>\n",
       "      <td>1.15</td>\n",
       "      <td>0.000073</td>\n",
       "    </tr>\n",
       "    <tr>\n",
       "      <th>2</th>\n",
       "      <td>31.72</td>\n",
       "      <td>78.35</td>\n",
       "      <td>941.33</td>\n",
       "      <td>71.67</td>\n",
       "      <td>38.008495</td>\n",
       "      <td>1.321324</td>\n",
       "      <td>1.15</td>\n",
       "      <td>0.000073</td>\n",
       "    </tr>\n",
       "  </tbody>\n",
       "</table>\n",
       "</div>"
      ],
      "text/plain": [
       "     Lat   Long      CP     Δp       Rmax         B     ρ         Ω\n",
       "0  31.60  78.30  943.00  70.00  38.268623  1.321192  1.15  0.000073\n",
       "1  31.66  78.33  942.17  70.83  38.141031  1.321244  1.15  0.000073\n",
       "2  31.72  78.35  941.33  71.67  38.008495  1.321324  1.15  0.000073"
      ]
     },
     "execution_count": 286,
     "metadata": {},
     "output_type": "execute_result"
    }
   ],
   "source": [
    "n.head(3)"
   ]
  },
  {
   "cell_type": "code",
   "execution_count": 287,
   "metadata": {},
   "outputs": [],
   "source": [
    "# importing building invetory data\n",
    "blg=pd.read_csv('sample_buildings.csv')"
   ]
  },
  {
   "cell_type": "code",
   "execution_count": 288,
   "metadata": {},
   "outputs": [
    {
     "data": {
      "text/html": [
       "<div>\n",
       "<style scoped>\n",
       "    .dataframe tbody tr th:only-of-type {\n",
       "        vertical-align: middle;\n",
       "    }\n",
       "\n",
       "    .dataframe tbody tr th {\n",
       "        vertical-align: top;\n",
       "    }\n",
       "\n",
       "    .dataframe thead th {\n",
       "        text-align: right;\n",
       "    }\n",
       "</style>\n",
       "<table border=\"1\" class=\"dataframe\">\n",
       "  <thead>\n",
       "    <tr style=\"text-align: right;\">\n",
       "      <th></th>\n",
       "      <th>OBJECTID</th>\n",
       "      <th>x</th>\n",
       "      <th>y</th>\n",
       "      <th>Year</th>\n",
       "      <th>STRUCTURET</th>\n",
       "      <th>id</th>\n",
       "      <th>taxval</th>\n",
       "      <th>landuse</th>\n",
       "      <th>yearbuilt</th>\n",
       "      <th>storey</th>\n",
       "      <th>Structures</th>\n",
       "      <th>StrucET</th>\n",
       "      <th>Type</th>\n",
       "      <th>type</th>\n",
       "      <th>Area_m2</th>\n",
       "      <th>Area_ft2</th>\n",
       "    </tr>\n",
       "  </thead>\n",
       "  <tbody>\n",
       "    <tr>\n",
       "      <th>0</th>\n",
       "      <td>64590</td>\n",
       "      <td>77.211412</td>\n",
       "      <td>34.669224</td>\n",
       "      <td>2016</td>\n",
       "      <td>Hard Board (Hardy board or pla</td>\n",
       "      <td>37754</td>\n",
       "      <td>131940</td>\n",
       "      <td>Residential</td>\n",
       "      <td>2004</td>\n",
       "      <td>1</td>\n",
       "      <td>Single Family</td>\n",
       "      <td>Hard Board (Hardy board or pla</td>\n",
       "      <td>Building Modified</td>\n",
       "      <td>A58</td>\n",
       "      <td>2219.860665</td>\n",
       "      <td>11775.676390</td>\n",
       "    </tr>\n",
       "    <tr>\n",
       "      <th>1</th>\n",
       "      <td>120592</td>\n",
       "      <td>77.373893</td>\n",
       "      <td>34.767879</td>\n",
       "      <td>2006</td>\n",
       "      <td>Cedar/Redwood/Cypress</td>\n",
       "      <td>45542</td>\n",
       "      <td>133340</td>\n",
       "      <td>Residential</td>\n",
       "      <td>1988</td>\n",
       "      <td>1</td>\n",
       "      <td>Single Family</td>\n",
       "      <td>Cedar/Redwood/Cypress</td>\n",
       "      <td>Building Existing</td>\n",
       "      <td>A14</td>\n",
       "      <td>2783.299933</td>\n",
       "      <td>9727.959884</td>\n",
       "    </tr>\n",
       "    <tr>\n",
       "      <th>2</th>\n",
       "      <td>89645</td>\n",
       "      <td>77.160145</td>\n",
       "      <td>34.682143</td>\n",
       "      <td>2006</td>\n",
       "      <td>Cedar/Redwood/Cypress</td>\n",
       "      <td>53669</td>\n",
       "      <td>492240</td>\n",
       "      <td>Waterfront River/Creek</td>\n",
       "      <td>2001</td>\n",
       "      <td>1</td>\n",
       "      <td>Single Family</td>\n",
       "      <td>Cedar/Redwood/Cypress</td>\n",
       "      <td>Building Existing</td>\n",
       "      <td>A62</td>\n",
       "      <td>3483.491410</td>\n",
       "      <td>21968.291680</td>\n",
       "    </tr>\n",
       "    <tr>\n",
       "      <th>3</th>\n",
       "      <td>47967</td>\n",
       "      <td>77.443826</td>\n",
       "      <td>34.800179</td>\n",
       "      <td>2016</td>\n",
       "      <td>Aluminum/Vinyl</td>\n",
       "      <td>68961</td>\n",
       "      <td>167250</td>\n",
       "      <td>Residential</td>\n",
       "      <td>2007</td>\n",
       "      <td>1</td>\n",
       "      <td>Single Family</td>\n",
       "      <td>Aluminum/Vinyl</td>\n",
       "      <td>Building New</td>\n",
       "      <td>A62</td>\n",
       "      <td>2672.812928</td>\n",
       "      <td>10502.671570</td>\n",
       "    </tr>\n",
       "    <tr>\n",
       "      <th>4</th>\n",
       "      <td>59405</td>\n",
       "      <td>77.541601</td>\n",
       "      <td>34.897484</td>\n",
       "      <td>2016</td>\n",
       "      <td>Aluminum/Vinyl</td>\n",
       "      <td>17408</td>\n",
       "      <td>46720</td>\n",
       "      <td>Residential</td>\n",
       "      <td>1960</td>\n",
       "      <td>1</td>\n",
       "      <td>Single Family</td>\n",
       "      <td>Aluminum/Vinyl</td>\n",
       "      <td>Building New</td>\n",
       "      <td>A14</td>\n",
       "      <td>87.815423</td>\n",
       "      <td>5503.109841</td>\n",
       "    </tr>\n",
       "  </tbody>\n",
       "</table>\n",
       "</div>"
      ],
      "text/plain": [
       "   OBJECTID          x          y  Year                      STRUCTURET  \\\n",
       "0     64590  77.211412  34.669224  2016  Hard Board (Hardy board or pla   \n",
       "1    120592  77.373893  34.767879  2006           Cedar/Redwood/Cypress   \n",
       "2     89645  77.160145  34.682143  2006           Cedar/Redwood/Cypress   \n",
       "3     47967  77.443826  34.800179  2016                  Aluminum/Vinyl   \n",
       "4     59405  77.541601  34.897484  2016                  Aluminum/Vinyl   \n",
       "\n",
       "      id  taxval                 landuse  yearbuilt  storey     Structures  \\\n",
       "0  37754  131940             Residential       2004       1  Single Family   \n",
       "1  45542  133340             Residential       1988       1  Single Family   \n",
       "2  53669  492240  Waterfront River/Creek       2001       1  Single Family   \n",
       "3  68961  167250             Residential       2007       1  Single Family   \n",
       "4  17408   46720             Residential       1960       1  Single Family   \n",
       "\n",
       "                          StrucET               Type type      Area_m2  \\\n",
       "0  Hard Board (Hardy board or pla  Building Modified  A58  2219.860665   \n",
       "1           Cedar/Redwood/Cypress  Building Existing  A14  2783.299933   \n",
       "2           Cedar/Redwood/Cypress  Building Existing  A62  3483.491410   \n",
       "3                  Aluminum/Vinyl       Building New  A62  2672.812928   \n",
       "4                  Aluminum/Vinyl       Building New  A14    87.815423   \n",
       "\n",
       "       Area_ft2  \n",
       "0  11775.676390  \n",
       "1   9727.959884  \n",
       "2  21968.291680  \n",
       "3  10502.671570  \n",
       "4   5503.109841  "
      ]
     },
     "execution_count": 288,
     "metadata": {},
     "output_type": "execute_result"
    }
   ],
   "source": [
    "blg.head()"
   ]
  },
  {
   "cell_type": "code",
   "execution_count": 289,
   "metadata": {},
   "outputs": [],
   "source": [
    "#Gradient Wind Speeds Estimation\n",
    "a1=list()\n",
    "r1=list()\n",
    "f1=list()\n",
    "Vg1=list()\n",
    "Vmph=list()\n",
    "for index, row in n.iterrows():\n",
    "    Lat_HE = row['Lat']*3.141592654/180\n",
    "    Long_HE = row['Long']*3.141592654/180\n",
    "    ρ = row['ρ']\n",
    "    B = row['B']\n",
    "    Rmax = row['Rmax']*1000\n",
    "    CP = row['CP']\n",
    "    Δp = row['Δp']*100\n",
    "    Vg11=list()\n",
    "    Vmph1=list()\n",
    "    Vg1.append(Vg11)\n",
    "    Vmph.append(Vmph1)\n",
    "    for index, row in blg.iterrows():\n",
    "        Lat = row['y']\n",
    "        Long = row['x']\n",
    "        Lat_rad = Lat*3.141592654/180\n",
    "        Long_rad= Long*3.141592654/180\n",
    "        delLat=Lat_HE-Lat_rad\n",
    "        delLong=Long_HE-Long_rad\n",
    "        a=np.sin(delLat/2)**2+np.cos(Lat_HE)*np.cos(Lat_rad)*np.sin(delLong/2)**2\n",
    "        rr=2*6373*np.arcsin(np.sqrt(a))\n",
    "        r=rr*1000\n",
    "        f=2*0.000073*np.sin(Lat_rad)\n",
    "        Vg=float(np.sqrt((((Rmax/r)**B)*((B*Δp*np.exp(-(Rmax/r)**B))/ρ))+((r**2)*(f**2)*0.25))-(r*f/2))\n",
    "        V=Vg*2.2369362920544\n",
    "        a1.append(a)\n",
    "        r1.append(r)\n",
    "        f1.append(f)\n",
    "        Vg11.append(Vg)\n",
    "        Vmph1.append(V)"
   ]
  },
  {
   "cell_type": "code",
   "execution_count": 290,
   "metadata": {},
   "outputs": [],
   "source": [
    "# Converting Gradient wind Speeds to Surface Wind Speeds\n",
    "VG=pd.DataFrame(Vmph)\n",
    "VG1=pd.DataFrame(Vmph)*1.287\n",
    "Vg=VG.T"
   ]
  },
  {
   "cell_type": "code",
   "execution_count": 293,
   "metadata": {},
   "outputs": [
    {
     "data": {
      "text/plain": [
       "Text(0, 0.5, 'Wind Speed(mph)')"
      ]
     },
     "execution_count": 293,
     "metadata": {},
     "output_type": "execute_result"
    },
    {
     "data": {
      "image/png": "[encoded data removed]",
      "text/plain": [
       "<Figure size 432x288 with 1 Axes>"
      ]
     },
     "metadata": {
      "needs_background": "light"
     },
     "output_type": "display_data"
    }
   ],
   "source": [
    "#Wind Speed Trajectories\n",
    "VG1.plot.line(legend=None)\n",
    "plt.xlabel('Time Step')\n",
    "plt.ylabel('Wind Speed(mph)')"
   ]
  },
  {
   "cell_type": "code",
   "execution_count": 294,
   "metadata": {},
   "outputs": [],
   "source": [
    "V3s=Vg.max(axis=1)*1.287"
   ]
  },
  {
   "cell_type": "code",
   "execution_count": 296,
   "metadata": {},
   "outputs": [],
   "source": [
    "# Creating DataFrame with Wind Speeds\n",
    "V3=list(blg.id)\n",
    "vv= list(V3s.values)\n",
    "pf = {'ind':V3,'mph':vv}\n",
    "ws=pd.DataFrame(pf)"
   ]
  },
  {
   "cell_type": "code",
   "execution_count": 297,
   "metadata": {},
   "outputs": [
    {
     "data": {
      "text/html": [
       "<div>\n",
       "<style scoped>\n",
       "    .dataframe tbody tr th:only-of-type {\n",
       "        vertical-align: middle;\n",
       "    }\n",
       "\n",
       "    .dataframe tbody tr th {\n",
       "        vertical-align: top;\n",
       "    }\n",
       "\n",
       "    .dataframe thead th {\n",
       "        text-align: right;\n",
       "    }\n",
       "</style>\n",
       "<table border=\"1\" class=\"dataframe\">\n",
       "  <thead>\n",
       "    <tr style=\"text-align: right;\">\n",
       "      <th></th>\n",
       "      <th>ind</th>\n",
       "      <th>mph</th>\n",
       "    </tr>\n",
       "  </thead>\n",
       "  <tbody>\n",
       "    <tr>\n",
       "      <th>0</th>\n",
       "      <td>37754</td>\n",
       "      <td>146.736855</td>\n",
       "    </tr>\n",
       "    <tr>\n",
       "      <th>1</th>\n",
       "      <td>45542</td>\n",
       "      <td>134.299058</td>\n",
       "    </tr>\n",
       "    <tr>\n",
       "      <th>2</th>\n",
       "      <td>53669</td>\n",
       "      <td>147.421464</td>\n",
       "    </tr>\n",
       "    <tr>\n",
       "      <th>3</th>\n",
       "      <td>68961</td>\n",
       "      <td>129.690412</td>\n",
       "    </tr>\n",
       "    <tr>\n",
       "      <th>4</th>\n",
       "      <td>17408</td>\n",
       "      <td>119.759260</td>\n",
       "    </tr>\n",
       "  </tbody>\n",
       "</table>\n",
       "</div>"
      ],
      "text/plain": [
       "     ind         mph\n",
       "0  37754  146.736855\n",
       "1  45542  134.299058\n",
       "2  53669  147.421464\n",
       "3  68961  129.690412\n",
       "4  17408  119.759260"
      ]
     },
     "execution_count": 297,
     "metadata": {},
     "output_type": "execute_result"
    }
   ],
   "source": [
    "ws.head()"
   ]
  },
  {
   "cell_type": "code",
   "execution_count": 299,
   "metadata": {},
   "outputs": [
    {
     "data": {
      "text/plain": [
       "(256, 2)"
      ]
     },
     "execution_count": 299,
     "metadata": {},
     "output_type": "execute_result"
    }
   ],
   "source": [
    "ws.shape"
   ]
  },
  {
   "cell_type": "code",
   "execution_count": 300,
   "metadata": {},
   "outputs": [
    {
     "data": {
      "text/plain": [
       "(256, 16)"
      ]
     },
     "execution_count": 300,
     "metadata": {},
     "output_type": "execute_result"
    }
   ],
   "source": [
    "blg.shape"
   ]
  },
  {
   "cell_type": "code",
   "execution_count": 301,
   "metadata": {},
   "outputs": [],
   "source": [
    "# Adding Estiamted Wind Speed to Building Data\n",
    "BlgW=blg.merge(ws, left_on='id', right_on='ind')"
   ]
  },
  {
   "cell_type": "code",
   "execution_count": 302,
   "metadata": {},
   "outputs": [
    {
     "data": {
      "text/html": [
       "<div>\n",
       "<style scoped>\n",
       "    .dataframe tbody tr th:only-of-type {\n",
       "        vertical-align: middle;\n",
       "    }\n",
       "\n",
       "    .dataframe tbody tr th {\n",
       "        vertical-align: top;\n",
       "    }\n",
       "\n",
       "    .dataframe thead th {\n",
       "        text-align: right;\n",
       "    }\n",
       "</style>\n",
       "<table border=\"1\" class=\"dataframe\">\n",
       "  <thead>\n",
       "    <tr style=\"text-align: right;\">\n",
       "      <th></th>\n",
       "      <th>OBJECTID</th>\n",
       "      <th>x</th>\n",
       "      <th>y</th>\n",
       "      <th>Year</th>\n",
       "      <th>STRUCTURET</th>\n",
       "      <th>id</th>\n",
       "      <th>taxval</th>\n",
       "      <th>landuse</th>\n",
       "      <th>yearbuilt</th>\n",
       "      <th>storey</th>\n",
       "      <th>Structures</th>\n",
       "      <th>StrucET</th>\n",
       "      <th>Type</th>\n",
       "      <th>type</th>\n",
       "      <th>Area_m2</th>\n",
       "      <th>Area_ft2</th>\n",
       "      <th>ind</th>\n",
       "      <th>mph</th>\n",
       "    </tr>\n",
       "  </thead>\n",
       "  <tbody>\n",
       "    <tr>\n",
       "      <th>0</th>\n",
       "      <td>64590</td>\n",
       "      <td>77.211412</td>\n",
       "      <td>34.669224</td>\n",
       "      <td>2016</td>\n",
       "      <td>Hard Board (Hardy board or pla</td>\n",
       "      <td>37754</td>\n",
       "      <td>131940</td>\n",
       "      <td>Residential</td>\n",
       "      <td>2004</td>\n",
       "      <td>1</td>\n",
       "      <td>Single Family</td>\n",
       "      <td>Hard Board (Hardy board or pla</td>\n",
       "      <td>Building Modified</td>\n",
       "      <td>A58</td>\n",
       "      <td>2219.860665</td>\n",
       "      <td>11775.676390</td>\n",
       "      <td>37754</td>\n",
       "      <td>146.736855</td>\n",
       "    </tr>\n",
       "    <tr>\n",
       "      <th>1</th>\n",
       "      <td>120592</td>\n",
       "      <td>77.373893</td>\n",
       "      <td>34.767879</td>\n",
       "      <td>2006</td>\n",
       "      <td>Cedar/Redwood/Cypress</td>\n",
       "      <td>45542</td>\n",
       "      <td>133340</td>\n",
       "      <td>Residential</td>\n",
       "      <td>1988</td>\n",
       "      <td>1</td>\n",
       "      <td>Single Family</td>\n",
       "      <td>Cedar/Redwood/Cypress</td>\n",
       "      <td>Building Existing</td>\n",
       "      <td>A14</td>\n",
       "      <td>2783.299933</td>\n",
       "      <td>9727.959884</td>\n",
       "      <td>45542</td>\n",
       "      <td>134.299058</td>\n",
       "    </tr>\n",
       "    <tr>\n",
       "      <th>2</th>\n",
       "      <td>89645</td>\n",
       "      <td>77.160145</td>\n",
       "      <td>34.682143</td>\n",
       "      <td>2006</td>\n",
       "      <td>Cedar/Redwood/Cypress</td>\n",
       "      <td>53669</td>\n",
       "      <td>492240</td>\n",
       "      <td>Waterfront River/Creek</td>\n",
       "      <td>2001</td>\n",
       "      <td>1</td>\n",
       "      <td>Single Family</td>\n",
       "      <td>Cedar/Redwood/Cypress</td>\n",
       "      <td>Building Existing</td>\n",
       "      <td>A62</td>\n",
       "      <td>3483.491410</td>\n",
       "      <td>21968.291680</td>\n",
       "      <td>53669</td>\n",
       "      <td>147.421464</td>\n",
       "    </tr>\n",
       "    <tr>\n",
       "      <th>3</th>\n",
       "      <td>47967</td>\n",
       "      <td>77.443826</td>\n",
       "      <td>34.800179</td>\n",
       "      <td>2016</td>\n",
       "      <td>Aluminum/Vinyl</td>\n",
       "      <td>68961</td>\n",
       "      <td>167250</td>\n",
       "      <td>Residential</td>\n",
       "      <td>2007</td>\n",
       "      <td>1</td>\n",
       "      <td>Single Family</td>\n",
       "      <td>Aluminum/Vinyl</td>\n",
       "      <td>Building New</td>\n",
       "      <td>A62</td>\n",
       "      <td>2672.812928</td>\n",
       "      <td>10502.671570</td>\n",
       "      <td>68961</td>\n",
       "      <td>129.690412</td>\n",
       "    </tr>\n",
       "    <tr>\n",
       "      <th>4</th>\n",
       "      <td>59405</td>\n",
       "      <td>77.541601</td>\n",
       "      <td>34.897484</td>\n",
       "      <td>2016</td>\n",
       "      <td>Aluminum/Vinyl</td>\n",
       "      <td>17408</td>\n",
       "      <td>46720</td>\n",
       "      <td>Residential</td>\n",
       "      <td>1960</td>\n",
       "      <td>1</td>\n",
       "      <td>Single Family</td>\n",
       "      <td>Aluminum/Vinyl</td>\n",
       "      <td>Building New</td>\n",
       "      <td>A14</td>\n",
       "      <td>87.815423</td>\n",
       "      <td>5503.109841</td>\n",
       "      <td>17408</td>\n",
       "      <td>119.759260</td>\n",
       "    </tr>\n",
       "  </tbody>\n",
       "</table>\n",
       "</div>"
      ],
      "text/plain": [
       "   OBJECTID          x          y  Year                      STRUCTURET  \\\n",
       "0     64590  77.211412  34.669224  2016  Hard Board (Hardy board or pla   \n",
       "1    120592  77.373893  34.767879  2006           Cedar/Redwood/Cypress   \n",
       "2     89645  77.160145  34.682143  2006           Cedar/Redwood/Cypress   \n",
       "3     47967  77.443826  34.800179  2016                  Aluminum/Vinyl   \n",
       "4     59405  77.541601  34.897484  2016                  Aluminum/Vinyl   \n",
       "\n",
       "      id  taxval                 landuse  yearbuilt  storey     Structures  \\\n",
       "0  37754  131940             Residential       2004       1  Single Family   \n",
       "1  45542  133340             Residential       1988       1  Single Family   \n",
       "2  53669  492240  Waterfront River/Creek       2001       1  Single Family   \n",
       "3  68961  167250             Residential       2007       1  Single Family   \n",
       "4  17408   46720             Residential       1960       1  Single Family   \n",
       "\n",
       "                          StrucET               Type type      Area_m2  \\\n",
       "0  Hard Board (Hardy board or pla  Building Modified  A58  2219.860665   \n",
       "1           Cedar/Redwood/Cypress  Building Existing  A14  2783.299933   \n",
       "2           Cedar/Redwood/Cypress  Building Existing  A62  3483.491410   \n",
       "3                  Aluminum/Vinyl       Building New  A62  2672.812928   \n",
       "4                  Aluminum/Vinyl       Building New  A14    87.815423   \n",
       "\n",
       "       Area_ft2    ind         mph  \n",
       "0  11775.676390  37754  146.736855  \n",
       "1   9727.959884  45542  134.299058  \n",
       "2  21968.291680  53669  147.421464  \n",
       "3  10502.671570  68961  129.690412  \n",
       "4   5503.109841  17408  119.759260  "
      ]
     },
     "execution_count": 302,
     "metadata": {},
     "output_type": "execute_result"
    }
   ],
   "source": [
    "BlgW.head()"
   ]
  },
  {
   "cell_type": "code",
   "execution_count": 303,
   "metadata": {},
   "outputs": [],
   "source": [
    "BlgW.drop(['ind'], axis=1, inplace=True)"
   ]
  },
  {
   "cell_type": "code",
   "execution_count": 304,
   "metadata": {},
   "outputs": [
    {
     "data": {
      "text/plain": [
       "(256, 17)"
      ]
     },
     "execution_count": 304,
     "metadata": {},
     "output_type": "execute_result"
    }
   ],
   "source": [
    "BlgW.shape"
   ]
  },
  {
   "cell_type": "code",
   "execution_count": 305,
   "metadata": {},
   "outputs": [
    {
     "data": {
      "text/html": [
       "<div>\n",
       "<style scoped>\n",
       "    .dataframe tbody tr th:only-of-type {\n",
       "        vertical-align: middle;\n",
       "    }\n",
       "\n",
       "    .dataframe tbody tr th {\n",
       "        vertical-align: top;\n",
       "    }\n",
       "\n",
       "    .dataframe thead th {\n",
       "        text-align: right;\n",
       "    }\n",
       "</style>\n",
       "<table border=\"1\" class=\"dataframe\">\n",
       "  <thead>\n",
       "    <tr style=\"text-align: right;\">\n",
       "      <th></th>\n",
       "      <th>OBJECTID</th>\n",
       "      <th>x</th>\n",
       "      <th>y</th>\n",
       "      <th>Year</th>\n",
       "      <th>STRUCTURET</th>\n",
       "      <th>id</th>\n",
       "      <th>taxval</th>\n",
       "      <th>landuse</th>\n",
       "      <th>yearbuilt</th>\n",
       "      <th>storey</th>\n",
       "      <th>Structures</th>\n",
       "      <th>StrucET</th>\n",
       "      <th>Type</th>\n",
       "      <th>type</th>\n",
       "      <th>Area_m2</th>\n",
       "      <th>Area_ft2</th>\n",
       "      <th>mph</th>\n",
       "    </tr>\n",
       "  </thead>\n",
       "  <tbody>\n",
       "    <tr>\n",
       "      <th>0</th>\n",
       "      <td>64590</td>\n",
       "      <td>77.211412</td>\n",
       "      <td>34.669224</td>\n",
       "      <td>2016</td>\n",
       "      <td>Hard Board (Hardy board or pla</td>\n",
       "      <td>37754</td>\n",
       "      <td>131940</td>\n",
       "      <td>Residential</td>\n",
       "      <td>2004</td>\n",
       "      <td>1</td>\n",
       "      <td>Single Family</td>\n",
       "      <td>Hard Board (Hardy board or pla</td>\n",
       "      <td>Building Modified</td>\n",
       "      <td>A58</td>\n",
       "      <td>2219.860665</td>\n",
       "      <td>11775.676390</td>\n",
       "      <td>146.736855</td>\n",
       "    </tr>\n",
       "    <tr>\n",
       "      <th>1</th>\n",
       "      <td>120592</td>\n",
       "      <td>77.373893</td>\n",
       "      <td>34.767879</td>\n",
       "      <td>2006</td>\n",
       "      <td>Cedar/Redwood/Cypress</td>\n",
       "      <td>45542</td>\n",
       "      <td>133340</td>\n",
       "      <td>Residential</td>\n",
       "      <td>1988</td>\n",
       "      <td>1</td>\n",
       "      <td>Single Family</td>\n",
       "      <td>Cedar/Redwood/Cypress</td>\n",
       "      <td>Building Existing</td>\n",
       "      <td>A14</td>\n",
       "      <td>2783.299933</td>\n",
       "      <td>9727.959884</td>\n",
       "      <td>134.299058</td>\n",
       "    </tr>\n",
       "    <tr>\n",
       "      <th>2</th>\n",
       "      <td>89645</td>\n",
       "      <td>77.160145</td>\n",
       "      <td>34.682143</td>\n",
       "      <td>2006</td>\n",
       "      <td>Cedar/Redwood/Cypress</td>\n",
       "      <td>53669</td>\n",
       "      <td>492240</td>\n",
       "      <td>Waterfront River/Creek</td>\n",
       "      <td>2001</td>\n",
       "      <td>1</td>\n",
       "      <td>Single Family</td>\n",
       "      <td>Cedar/Redwood/Cypress</td>\n",
       "      <td>Building Existing</td>\n",
       "      <td>A62</td>\n",
       "      <td>3483.491410</td>\n",
       "      <td>21968.291680</td>\n",
       "      <td>147.421464</td>\n",
       "    </tr>\n",
       "    <tr>\n",
       "      <th>3</th>\n",
       "      <td>47967</td>\n",
       "      <td>77.443826</td>\n",
       "      <td>34.800179</td>\n",
       "      <td>2016</td>\n",
       "      <td>Aluminum/Vinyl</td>\n",
       "      <td>68961</td>\n",
       "      <td>167250</td>\n",
       "      <td>Residential</td>\n",
       "      <td>2007</td>\n",
       "      <td>1</td>\n",
       "      <td>Single Family</td>\n",
       "      <td>Aluminum/Vinyl</td>\n",
       "      <td>Building New</td>\n",
       "      <td>A62</td>\n",
       "      <td>2672.812928</td>\n",
       "      <td>10502.671570</td>\n",
       "      <td>129.690412</td>\n",
       "    </tr>\n",
       "    <tr>\n",
       "      <th>4</th>\n",
       "      <td>59405</td>\n",
       "      <td>77.541601</td>\n",
       "      <td>34.897484</td>\n",
       "      <td>2016</td>\n",
       "      <td>Aluminum/Vinyl</td>\n",
       "      <td>17408</td>\n",
       "      <td>46720</td>\n",
       "      <td>Residential</td>\n",
       "      <td>1960</td>\n",
       "      <td>1</td>\n",
       "      <td>Single Family</td>\n",
       "      <td>Aluminum/Vinyl</td>\n",
       "      <td>Building New</td>\n",
       "      <td>A14</td>\n",
       "      <td>87.815423</td>\n",
       "      <td>5503.109841</td>\n",
       "      <td>119.759260</td>\n",
       "    </tr>\n",
       "  </tbody>\n",
       "</table>\n",
       "</div>"
      ],
      "text/plain": [
       "   OBJECTID          x          y  Year                      STRUCTURET  \\\n",
       "0     64590  77.211412  34.669224  2016  Hard Board (Hardy board or pla   \n",
       "1    120592  77.373893  34.767879  2006           Cedar/Redwood/Cypress   \n",
       "2     89645  77.160145  34.682143  2006           Cedar/Redwood/Cypress   \n",
       "3     47967  77.443826  34.800179  2016                  Aluminum/Vinyl   \n",
       "4     59405  77.541601  34.897484  2016                  Aluminum/Vinyl   \n",
       "\n",
       "      id  taxval                 landuse  yearbuilt  storey     Structures  \\\n",
       "0  37754  131940             Residential       2004       1  Single Family   \n",
       "1  45542  133340             Residential       1988       1  Single Family   \n",
       "2  53669  492240  Waterfront River/Creek       2001       1  Single Family   \n",
       "3  68961  167250             Residential       2007       1  Single Family   \n",
       "4  17408   46720             Residential       1960       1  Single Family   \n",
       "\n",
       "                          StrucET               Type type      Area_m2  \\\n",
       "0  Hard Board (Hardy board or pla  Building Modified  A58  2219.860665   \n",
       "1           Cedar/Redwood/Cypress  Building Existing  A14  2783.299933   \n",
       "2           Cedar/Redwood/Cypress  Building Existing  A62  3483.491410   \n",
       "3                  Aluminum/Vinyl       Building New  A62  2672.812928   \n",
       "4                  Aluminum/Vinyl       Building New  A14    87.815423   \n",
       "\n",
       "       Area_ft2         mph  \n",
       "0  11775.676390  146.736855  \n",
       "1   9727.959884  134.299058  \n",
       "2  21968.291680  147.421464  \n",
       "3  10502.671570  129.690412  \n",
       "4   5503.109841  119.759260  "
      ]
     },
     "execution_count": 305,
     "metadata": {},
     "output_type": "execute_result"
    }
   ],
   "source": [
    "BlgW.head()"
   ]
  },
  {
   "cell_type": "code",
   "execution_count": 306,
   "metadata": {},
   "outputs": [
    {
     "data": {
      "text/plain": [
       "(256, 17)"
      ]
     },
     "execution_count": 306,
     "metadata": {},
     "output_type": "execute_result"
    }
   ],
   "source": [
    "BlgW.shape"
   ]
  },
  {
   "cell_type": "markdown",
   "metadata": {},
   "source": [
    "### Generalized Scenario Wind Speeds Curve"
   ]
  },
  {
   "cell_type": "code",
   "execution_count": 315,
   "metadata": {},
   "outputs": [],
   "source": [
    "#Rmax at Landfall\n",
    "Rmax=33.29969958*1000\n",
    "B=2\n",
    "Δp=63*100\n",
    "ρ=1.15\n",
    "Ω=0.00007292\n",
    "φ=27.2*3.141592654/180\n",
    "f=6.66632E-05\n",
    "\n",
    "Rw=31.52032052*1000\n",
    "Bw=2.5\n",
    "Δpw=63*100\n",
    "φb=25.9*3.141592654/180"
   ]
  },
  {
   "cell_type": "code",
   "execution_count": 316,
   "metadata": {},
   "outputs": [],
   "source": [
    "# Preparing Hazard Curve\n",
    "rr=[]\n",
    "VG=[]\n",
    "VGw=[]\n",
    "for r in range(1, 400, 1):\n",
    "    Vg=float(np.sqrt((((Rmax/(r*1000))**B)*((B*Δp*np.exp(-(Rmax/(r*1000))**B))/ρ))+((r**2)*(f**2)*0.25))-((r*1000)*f/2))\n",
    "    Vgw=float(np.sqrt((((Rw/(r*1000))**Bw)*((Bw*Δpw*np.exp(-(Rw/(r*1000))**Bw))/ρ))+((r**2)*(f**2)*0.25))-((r*1000)*f/2))\n",
    "    rr.append(r)\n",
    "    VG.append(Vg)\n",
    "    VGw.append(Vgw)"
   ]
  },
  {
   "cell_type": "code",
   "execution_count": 317,
   "metadata": {},
   "outputs": [
    {
     "data": {
      "text/plain": [
       "Text(0, 0.5, 'Wind Speed (m/s)')"
      ]
     },
     "execution_count": 317,
     "metadata": {},
     "output_type": "execute_result"
    },
    {
     "data": {
      "image/png": "[encoded data removed]",
      "text/plain": [
       "<Figure size 432x288 with 1 Axes>"
      ]
     },
     "metadata": {
      "needs_background": "light"
     },
     "output_type": "display_data"
    }
   ],
   "source": [
    "plt.plot(rr,VG,label='Vortex Hazard Curve')\n",
    "plt.legend()\n",
    "plt.xlabel('Distance from Hurricane Eye (km)')\n",
    "plt.ylabel('Wind Speed (m/s)')"
   ]
  },
  {
   "cell_type": "markdown",
   "metadata": {},
   "source": [
    "### Damage Simulation"
   ]
  },
  {
   "cell_type": "code",
   "execution_count": 318,
   "metadata": {},
   "outputs": [],
   "source": [
    "from pyproj import Proj\n",
    "from pyproj import Proj, transform"
   ]
  },
  {
   "cell_type": "code",
   "execution_count": 319,
   "metadata": {},
   "outputs": [],
   "source": [
    "np.random.seed(1234)"
   ]
  },
  {
   "cell_type": "code",
   "execution_count": 320,
   "metadata": {},
   "outputs": [
    {
     "data": {
      "text/html": [
       "<div>\n",
       "<style scoped>\n",
       "    .dataframe tbody tr th:only-of-type {\n",
       "        vertical-align: middle;\n",
       "    }\n",
       "\n",
       "    .dataframe tbody tr th {\n",
       "        vertical-align: top;\n",
       "    }\n",
       "\n",
       "    .dataframe thead th {\n",
       "        text-align: right;\n",
       "    }\n",
       "</style>\n",
       "<table border=\"1\" class=\"dataframe\">\n",
       "  <thead>\n",
       "    <tr style=\"text-align: right;\">\n",
       "      <th></th>\n",
       "      <th>OBJECTID</th>\n",
       "      <th>x</th>\n",
       "      <th>y</th>\n",
       "      <th>Year</th>\n",
       "      <th>STRUCTURET</th>\n",
       "      <th>id</th>\n",
       "      <th>taxval</th>\n",
       "      <th>landuse</th>\n",
       "      <th>yearbuilt</th>\n",
       "      <th>storey</th>\n",
       "      <th>Structures</th>\n",
       "      <th>StrucET</th>\n",
       "      <th>Type</th>\n",
       "      <th>type</th>\n",
       "      <th>Area_m2</th>\n",
       "      <th>Area_ft2</th>\n",
       "      <th>mph</th>\n",
       "    </tr>\n",
       "  </thead>\n",
       "  <tbody>\n",
       "    <tr>\n",
       "      <th>0</th>\n",
       "      <td>64590</td>\n",
       "      <td>77.211412</td>\n",
       "      <td>34.669224</td>\n",
       "      <td>2016</td>\n",
       "      <td>Hard Board (Hardy board or pla</td>\n",
       "      <td>37754</td>\n",
       "      <td>131940</td>\n",
       "      <td>Residential</td>\n",
       "      <td>2004</td>\n",
       "      <td>1</td>\n",
       "      <td>Single Family</td>\n",
       "      <td>Hard Board (Hardy board or pla</td>\n",
       "      <td>Building Modified</td>\n",
       "      <td>A58</td>\n",
       "      <td>2219.860665</td>\n",
       "      <td>11775.676390</td>\n",
       "      <td>146.736855</td>\n",
       "    </tr>\n",
       "    <tr>\n",
       "      <th>1</th>\n",
       "      <td>120592</td>\n",
       "      <td>77.373893</td>\n",
       "      <td>34.767879</td>\n",
       "      <td>2006</td>\n",
       "      <td>Cedar/Redwood/Cypress</td>\n",
       "      <td>45542</td>\n",
       "      <td>133340</td>\n",
       "      <td>Residential</td>\n",
       "      <td>1988</td>\n",
       "      <td>1</td>\n",
       "      <td>Single Family</td>\n",
       "      <td>Cedar/Redwood/Cypress</td>\n",
       "      <td>Building Existing</td>\n",
       "      <td>A14</td>\n",
       "      <td>2783.299933</td>\n",
       "      <td>9727.959884</td>\n",
       "      <td>134.299058</td>\n",
       "    </tr>\n",
       "    <tr>\n",
       "      <th>2</th>\n",
       "      <td>89645</td>\n",
       "      <td>77.160145</td>\n",
       "      <td>34.682143</td>\n",
       "      <td>2006</td>\n",
       "      <td>Cedar/Redwood/Cypress</td>\n",
       "      <td>53669</td>\n",
       "      <td>492240</td>\n",
       "      <td>Waterfront River/Creek</td>\n",
       "      <td>2001</td>\n",
       "      <td>1</td>\n",
       "      <td>Single Family</td>\n",
       "      <td>Cedar/Redwood/Cypress</td>\n",
       "      <td>Building Existing</td>\n",
       "      <td>A62</td>\n",
       "      <td>3483.491410</td>\n",
       "      <td>21968.291680</td>\n",
       "      <td>147.421464</td>\n",
       "    </tr>\n",
       "  </tbody>\n",
       "</table>\n",
       "</div>"
      ],
      "text/plain": [
       "   OBJECTID          x          y  Year                      STRUCTURET  \\\n",
       "0     64590  77.211412  34.669224  2016  Hard Board (Hardy board or pla   \n",
       "1    120592  77.373893  34.767879  2006           Cedar/Redwood/Cypress   \n",
       "2     89645  77.160145  34.682143  2006           Cedar/Redwood/Cypress   \n",
       "\n",
       "      id  taxval                 landuse  yearbuilt  storey     Structures  \\\n",
       "0  37754  131940             Residential       2004       1  Single Family   \n",
       "1  45542  133340             Residential       1988       1  Single Family   \n",
       "2  53669  492240  Waterfront River/Creek       2001       1  Single Family   \n",
       "\n",
       "                          StrucET               Type type      Area_m2  \\\n",
       "0  Hard Board (Hardy board or pla  Building Modified  A58  2219.860665   \n",
       "1           Cedar/Redwood/Cypress  Building Existing  A14  2783.299933   \n",
       "2           Cedar/Redwood/Cypress  Building Existing  A62  3483.491410   \n",
       "\n",
       "       Area_ft2         mph  \n",
       "0  11775.676390  146.736855  \n",
       "1   9727.959884  134.299058  \n",
       "2  21968.291680  147.421464  "
      ]
     },
     "execution_count": 320,
     "metadata": {},
     "output_type": "execute_result"
    }
   ],
   "source": [
    "BlgW.head(3)"
   ]
  },
  {
   "cell_type": "code",
   "execution_count": 321,
   "metadata": {},
   "outputs": [],
   "source": [
    "node = BlgW"
   ]
  },
  {
   "cell_type": "code",
   "execution_count": 322,
   "metadata": {},
   "outputs": [
    {
     "data": {
      "text/html": [
       "<div>\n",
       "<style scoped>\n",
       "    .dataframe tbody tr th:only-of-type {\n",
       "        vertical-align: middle;\n",
       "    }\n",
       "\n",
       "    .dataframe tbody tr th {\n",
       "        vertical-align: top;\n",
       "    }\n",
       "\n",
       "    .dataframe thead th {\n",
       "        text-align: right;\n",
       "    }\n",
       "</style>\n",
       "<table border=\"1\" class=\"dataframe\">\n",
       "  <thead>\n",
       "    <tr style=\"text-align: right;\">\n",
       "      <th></th>\n",
       "      <th>OBJECTID</th>\n",
       "      <th>x</th>\n",
       "      <th>y</th>\n",
       "      <th>Year</th>\n",
       "      <th>STRUCTURET</th>\n",
       "      <th>id</th>\n",
       "      <th>taxval</th>\n",
       "      <th>landuse</th>\n",
       "      <th>yearbuilt</th>\n",
       "      <th>storey</th>\n",
       "      <th>Structures</th>\n",
       "      <th>StrucET</th>\n",
       "      <th>Type</th>\n",
       "      <th>type</th>\n",
       "      <th>Area_m2</th>\n",
       "      <th>Area_ft2</th>\n",
       "      <th>mph</th>\n",
       "    </tr>\n",
       "  </thead>\n",
       "  <tbody>\n",
       "    <tr>\n",
       "      <th>0</th>\n",
       "      <td>64590</td>\n",
       "      <td>77.211412</td>\n",
       "      <td>34.669224</td>\n",
       "      <td>2016</td>\n",
       "      <td>Hard Board (Hardy board or pla</td>\n",
       "      <td>37754</td>\n",
       "      <td>131940</td>\n",
       "      <td>Residential</td>\n",
       "      <td>2004</td>\n",
       "      <td>1</td>\n",
       "      <td>Single Family</td>\n",
       "      <td>Hard Board (Hardy board or pla</td>\n",
       "      <td>Building Modified</td>\n",
       "      <td>A58</td>\n",
       "      <td>2219.860665</td>\n",
       "      <td>11775.676390</td>\n",
       "      <td>146.736855</td>\n",
       "    </tr>\n",
       "    <tr>\n",
       "      <th>1</th>\n",
       "      <td>120592</td>\n",
       "      <td>77.373893</td>\n",
       "      <td>34.767879</td>\n",
       "      <td>2006</td>\n",
       "      <td>Cedar/Redwood/Cypress</td>\n",
       "      <td>45542</td>\n",
       "      <td>133340</td>\n",
       "      <td>Residential</td>\n",
       "      <td>1988</td>\n",
       "      <td>1</td>\n",
       "      <td>Single Family</td>\n",
       "      <td>Cedar/Redwood/Cypress</td>\n",
       "      <td>Building Existing</td>\n",
       "      <td>A14</td>\n",
       "      <td>2783.299933</td>\n",
       "      <td>9727.959884</td>\n",
       "      <td>134.299058</td>\n",
       "    </tr>\n",
       "    <tr>\n",
       "      <th>2</th>\n",
       "      <td>89645</td>\n",
       "      <td>77.160145</td>\n",
       "      <td>34.682143</td>\n",
       "      <td>2006</td>\n",
       "      <td>Cedar/Redwood/Cypress</td>\n",
       "      <td>53669</td>\n",
       "      <td>492240</td>\n",
       "      <td>Waterfront River/Creek</td>\n",
       "      <td>2001</td>\n",
       "      <td>1</td>\n",
       "      <td>Single Family</td>\n",
       "      <td>Cedar/Redwood/Cypress</td>\n",
       "      <td>Building Existing</td>\n",
       "      <td>A62</td>\n",
       "      <td>3483.491410</td>\n",
       "      <td>21968.291680</td>\n",
       "      <td>147.421464</td>\n",
       "    </tr>\n",
       "  </tbody>\n",
       "</table>\n",
       "</div>"
      ],
      "text/plain": [
       "   OBJECTID          x          y  Year                      STRUCTURET  \\\n",
       "0     64590  77.211412  34.669224  2016  Hard Board (Hardy board or pla   \n",
       "1    120592  77.373893  34.767879  2006           Cedar/Redwood/Cypress   \n",
       "2     89645  77.160145  34.682143  2006           Cedar/Redwood/Cypress   \n",
       "\n",
       "      id  taxval                 landuse  yearbuilt  storey     Structures  \\\n",
       "0  37754  131940             Residential       2004       1  Single Family   \n",
       "1  45542  133340             Residential       1988       1  Single Family   \n",
       "2  53669  492240  Waterfront River/Creek       2001       1  Single Family   \n",
       "\n",
       "                          StrucET               Type type      Area_m2  \\\n",
       "0  Hard Board (Hardy board or pla  Building Modified  A58  2219.860665   \n",
       "1           Cedar/Redwood/Cypress  Building Existing  A14  2783.299933   \n",
       "2           Cedar/Redwood/Cypress  Building Existing  A62  3483.491410   \n",
       "\n",
       "       Area_ft2         mph  \n",
       "0  11775.676390  146.736855  \n",
       "1   9727.959884  134.299058  \n",
       "2  21968.291680  147.421464  "
      ]
     },
     "execution_count": 322,
     "metadata": {},
     "output_type": "execute_result"
    }
   ],
   "source": [
    "node.head(3)"
   ]
  },
  {
   "cell_type": "code",
   "execution_count": 323,
   "metadata": {},
   "outputs": [
    {
     "data": {
      "text/plain": [
       "(256, 17)"
      ]
     },
     "execution_count": 323,
     "metadata": {},
     "output_type": "execute_result"
    }
   ],
   "source": [
    "node.shape"
   ]
  },
  {
   "cell_type": "code",
   "execution_count": 324,
   "metadata": {},
   "outputs": [],
   "source": [
    "# classify structure types\n",
    "A10 = node[node['type']=='A10']\n",
    "A14 = node[node['type']=='A14']\n",
    "A18 = node[node['type']=='A18']\n",
    "A22 = node[node['type']=='A22']\n",
    "A26 = node[node['type']=='A26']\n",
    "A30 = node[node['type']=='A30']\n",
    "A50 = node[node['type']=='A50']\n",
    "A54 = node[node['type']=='A54']\n",
    "A56 = node[node['type']=='A56']\n",
    "A58 = node[node['type']=='A58']\n",
    "A62 = node[node['type']=='A62']\n",
    "B32 = node[node['type']=='B32']\n",
    "B35 = node[node['type']=='B35']\n",
    "B37 = node[node['type']=='B37']\n",
    "C14 = node[node['type']=='C14']\n",
    "C24 = node[node['type']=='C24']\n",
    "C25 = node[node['type']=='C25']\n",
    "F16 = node[node['type']=='F16']\n",
    "D10 = node[node['type']=='D10']\n",
    "G4 = node[node['type']=='G4']\n",
    "E6 = node[node['type']=='E6']\n",
    "E7 = node[node['type']=='E7']\n",
    "E8 = node[node['type']=='E8']"
   ]
  },
  {
   "cell_type": "code",
   "execution_count": 325,
   "metadata": {},
   "outputs": [
    {
     "data": {
      "text/html": [
       "<div>\n",
       "<style scoped>\n",
       "    .dataframe tbody tr th:only-of-type {\n",
       "        vertical-align: middle;\n",
       "    }\n",
       "\n",
       "    .dataframe tbody tr th {\n",
       "        vertical-align: top;\n",
       "    }\n",
       "\n",
       "    .dataframe thead th {\n",
       "        text-align: right;\n",
       "    }\n",
       "</style>\n",
       "<table border=\"1\" class=\"dataframe\">\n",
       "  <thead>\n",
       "    <tr style=\"text-align: right;\">\n",
       "      <th></th>\n",
       "      <th>OBJECTID</th>\n",
       "      <th>x</th>\n",
       "      <th>y</th>\n",
       "      <th>Year</th>\n",
       "      <th>STRUCTURET</th>\n",
       "      <th>id</th>\n",
       "      <th>taxval</th>\n",
       "      <th>landuse</th>\n",
       "      <th>yearbuilt</th>\n",
       "      <th>storey</th>\n",
       "      <th>Structures</th>\n",
       "      <th>StrucET</th>\n",
       "      <th>Type</th>\n",
       "      <th>type</th>\n",
       "      <th>Area_m2</th>\n",
       "      <th>Area_ft2</th>\n",
       "      <th>mph</th>\n",
       "    </tr>\n",
       "  </thead>\n",
       "  <tbody>\n",
       "    <tr>\n",
       "      <th>253</th>\n",
       "      <td>91243</td>\n",
       "      <td>77.504198</td>\n",
       "      <td>34.693078</td>\n",
       "      <td>2006</td>\n",
       "      <td>Aluminum/Vinyl</td>\n",
       "      <td>65909</td>\n",
       "      <td>195000</td>\n",
       "      <td>Residential</td>\n",
       "      <td>2005</td>\n",
       "      <td>2</td>\n",
       "      <td>Single Family</td>\n",
       "      <td>Aluminum/Vinyl</td>\n",
       "      <td>Building Existing</td>\n",
       "      <td>A26</td>\n",
       "      <td>1804.480560</td>\n",
       "      <td>22025.07111</td>\n",
       "      <td>135.164694</td>\n",
       "    </tr>\n",
       "    <tr>\n",
       "      <th>254</th>\n",
       "      <td>24691</td>\n",
       "      <td>77.189520</td>\n",
       "      <td>34.652543</td>\n",
       "      <td>2016</td>\n",
       "      <td>Hard Board (Hardy board or pla</td>\n",
       "      <td>74194</td>\n",
       "      <td>163940</td>\n",
       "      <td>Residential</td>\n",
       "      <td>2008</td>\n",
       "      <td>1</td>\n",
       "      <td>Single Family</td>\n",
       "      <td>Hard Board (Hardy board or pla</td>\n",
       "      <td>Building New</td>\n",
       "      <td>A58</td>\n",
       "      <td>2206.202757</td>\n",
       "      <td>48215.88262</td>\n",
       "      <td>148.511963</td>\n",
       "    </tr>\n",
       "    <tr>\n",
       "      <th>255</th>\n",
       "      <td>45516</td>\n",
       "      <td>77.361602</td>\n",
       "      <td>34.783840</td>\n",
       "      <td>2016</td>\n",
       "      <td>Aluminum/Vinyl</td>\n",
       "      <td>6222</td>\n",
       "      <td>112340</td>\n",
       "      <td>Residential</td>\n",
       "      <td>1974</td>\n",
       "      <td>1</td>\n",
       "      <td>Single Family</td>\n",
       "      <td>Aluminum/Vinyl</td>\n",
       "      <td>Building New</td>\n",
       "      <td>A14</td>\n",
       "      <td>162.343681</td>\n",
       "      <td>13824.10037</td>\n",
       "      <td>133.428417</td>\n",
       "    </tr>\n",
       "  </tbody>\n",
       "</table>\n",
       "</div>"
      ],
      "text/plain": [
       "     OBJECTID          x          y  Year                      STRUCTURET  \\\n",
       "253     91243  77.504198  34.693078  2006                  Aluminum/Vinyl   \n",
       "254     24691  77.189520  34.652543  2016  Hard Board (Hardy board or pla   \n",
       "255     45516  77.361602  34.783840  2016                  Aluminum/Vinyl   \n",
       "\n",
       "        id  taxval      landuse  yearbuilt  storey     Structures  \\\n",
       "253  65909  195000  Residential       2005       2  Single Family   \n",
       "254  74194  163940  Residential       2008       1  Single Family   \n",
       "255   6222  112340  Residential       1974       1  Single Family   \n",
       "\n",
       "                            StrucET               Type type      Area_m2  \\\n",
       "253                  Aluminum/Vinyl  Building Existing  A26  1804.480560   \n",
       "254  Hard Board (Hardy board or pla       Building New  A58  2206.202757   \n",
       "255                  Aluminum/Vinyl       Building New  A14   162.343681   \n",
       "\n",
       "        Area_ft2         mph  \n",
       "253  22025.07111  135.164694  \n",
       "254  48215.88262  148.511963  \n",
       "255  13824.10037  133.428417  "
      ]
     },
     "execution_count": 325,
     "metadata": {},
     "output_type": "execute_result"
    }
   ],
   "source": [
    "node.tail(3)"
   ]
  },
  {
   "cell_type": "code",
   "execution_count": 326,
   "metadata": {},
   "outputs": [
    {
     "data": {
      "image/png": "[encoded data removed]",
      "text/plain": [
       "<Figure size 720x432 with 1 Axes>"
      ]
     },
     "metadata": {
      "needs_background": "light"
     },
     "output_type": "display_data"
    }
   ],
   "source": [
    "np.random.seed(1234)\n",
    "node_FC=sp.Fragility()\n",
    "node_FC.add_dam_state('DS1', 1, {'Default': lognorm(0.14, scale=113.57)})  \n",
    "node_FC.add_dam_state('DS2', 2, {'Default': lognorm(0.12, scale=131.31)})\n",
    "node_FC.add_dam_state('DS3', 3, {'Default': lognorm(0.10, scale=143.45)})\n",
    "node_FC.add_dam_state('DS4', 4, {'Default': lognorm(0.12, scale=146.74)})\n",
    "plot_FC(node_FC, xlabel='Wind Speed(mph)', ylabel='Prob. of Exceedance',fill=False,xmax=200)\n",
    "plt.xlabel('Wind Speed (mph)',size=20)\n",
    "plt.ylabel('Prob. of Failure',size=20)\n",
    "plt.legend(prop={'size':16},loc='upper left')\n",
    "plt.plot(linewidth=2.0)\n",
    "plt.grid(False)\n",
    "idi=node[(node.type=='A10')].id\n",
    "mphi=node[(node.type=='A10')].mph\n",
    "d = {'Id':idi,'mph':mphi}\n",
    "df=pd.DataFrame(d)\n",
    "df.set_index('Id');\n",
    "node_Pr_A10 = node_FC.cdf_probability(df['mph'])\n",
    "node_damage_state = node_FC.sample_damage_state(node_Pr_A10)\n",
    "node_damage_state_map = node_FC.get_level_map()\n",
    "node_damage_valA10= node_damage_state.map(node_damage_state_map)\n",
    "id_valA10=df.Id"
   ]
  },
  {
   "cell_type": "code",
   "execution_count": 327,
   "metadata": {},
   "outputs": [
    {
     "data": {
      "text/plain": [
       "1    17\n",
       "2    10\n",
       "0     9\n",
       "4     3\n",
       "3     2\n",
       "dtype: int64"
      ]
     },
     "execution_count": 327,
     "metadata": {},
     "output_type": "execute_result"
    }
   ],
   "source": [
    "np.random.seed(1234)\n",
    "node_FC=sp.Fragility()\n",
    "node_FC.add_dam_state('DS1', 1, {'Default': lognorm(0.13, scale=118.22)})  \n",
    "node_FC.add_dam_state('DS2', 2, {'Default': lognorm(0.12, scale=138.69)})\n",
    "node_FC.add_dam_state('DS3', 3, {'Default': lognorm(0.11, scale=153.49)})\n",
    "node_FC.add_dam_state('DS4', 4, {'Default': lognorm(0.11, scale=158.66)})\n",
    "idi=node[(node.type=='A14')].id\n",
    "mphi=node[(node.type=='A14')].mph\n",
    "d = {'Id':idi,'mph':mphi}\n",
    "df=pd.DataFrame(d)\n",
    "df.set_index('Id');\n",
    "node_Pr_A14 = node_FC.cdf_probability(df['mph'])\n",
    "node_damage_state = node_FC.sample_damage_state(node_Pr_A14)\n",
    "node_damage_state_map = node_FC.get_level_map()\n",
    "node_damage_valA14= node_damage_state.map(node_damage_state_map)\n",
    "id_valA14=df.Id\n",
    "node_damage_valA14.value_counts()"
   ]
  },
  {
   "cell_type": "code",
   "execution_count": 328,
   "metadata": {},
   "outputs": [
    {
     "data": {
      "text/plain": [
       "3    2\n",
       "2    1\n",
       "dtype: int64"
      ]
     },
     "execution_count": 328,
     "metadata": {},
     "output_type": "execute_result"
    }
   ],
   "source": [
    "np.random.seed(1234)\n",
    "node_FC=sp.Fragility()\n",
    "node_FC.add_dam_state('DS1', 1, {'Default': lognorm(0.14, scale=103.10)})  \n",
    "node_FC.add_dam_state('DS2', 2, {'Default': lognorm(0.12, scale=118.60)})\n",
    "node_FC.add_dam_state('DS3', 3, {'Default': lognorm(0.11, scale=133.47)})\n",
    "node_FC.add_dam_state('DS4', 4, {'Default': lognorm(0.11, scale=146.44)})\n",
    "idi=node[(node.type=='A18')].id\n",
    "mphi=node[(node.type=='A18')].mph\n",
    "d = {'Id':idi,'mph':mphi}\n",
    "df=pd.DataFrame(d)\n",
    "df.set_index('Id');\n",
    "node_Pr_A18 = node_FC.cdf_probability(df['mph'])\n",
    "node_damage_state = node_FC.sample_damage_state(node_Pr_A18)\n",
    "node_damage_state_map = node_FC.get_level_map()\n",
    "node_damage_valA18= node_damage_state.map(node_damage_state_map)\n",
    "id_valA18=df.Id\n",
    "node_damage_valA18.value_counts()"
   ]
  },
  {
   "cell_type": "code",
   "execution_count": 329,
   "metadata": {},
   "outputs": [
    {
     "data": {
      "text/plain": [
       "3    2\n",
       "2    1\n",
       "dtype: int64"
      ]
     },
     "execution_count": 329,
     "metadata": {},
     "output_type": "execute_result"
    }
   ],
   "source": [
    "np.random.seed(1234)\n",
    "node_FC=sp.Fragility()\n",
    "node_FC.add_dam_state('DS1', 1, {'Default': lognorm(0.14, scale=106.63)})  \n",
    "node_FC.add_dam_state('DS2', 2, {'Default': lognorm(0.12, scale=126.51)})\n",
    "node_FC.add_dam_state('DS3', 3, {'Default': lognorm(0.11, scale=140.68)})\n",
    "node_FC.add_dam_state('DS4', 4, {'Default': lognorm(0.11, scale=157.88)})\n",
    "idi=node[(node.type=='A22')].id\n",
    "mphi=node[(node.type=='A22')].mph\n",
    "d = {'Id':idi,'mph':mphi}\n",
    "df=pd.DataFrame(d)\n",
    "df.set_index('Id');\n",
    "node_Pr_A22 = node_FC.cdf_probability(df['mph'])\n",
    "node_damage_state = node_FC.sample_damage_state(node_Pr_A22)\n",
    "node_damage_state_map = node_FC.get_level_map()\n",
    "node_damage_valA22= node_damage_state.map(node_damage_state_map)\n",
    "id_valA22=df.Id\n",
    "node_damage_valA22.value_counts()"
   ]
  },
  {
   "cell_type": "code",
   "execution_count": 330,
   "metadata": {},
   "outputs": [
    {
     "data": {
      "text/plain": [
       "4    12\n",
       "2     9\n",
       "3     5\n",
       "1     2\n",
       "dtype: int64"
      ]
     },
     "execution_count": 330,
     "metadata": {},
     "output_type": "execute_result"
    }
   ],
   "source": [
    "np.random.seed(1234)\n",
    "node_FC=sp.Fragility()\n",
    "node_FC.add_dam_state('DS1', 1, {'Default': lognorm(0.14, scale=102.89)})  \n",
    "node_FC.add_dam_state('DS2', 2, {'Default': lognorm(0.12, scale=118.10)})\n",
    "node_FC.add_dam_state('DS3', 3, {'Default': lognorm(0.11, scale=129.18)})\n",
    "node_FC.add_dam_state('DS4', 4, {'Default': lognorm(0.12, scale=133.30)})\n",
    "idi=node[(node.type=='A26')].id\n",
    "mphi=node[(node.type=='A26')].mph\n",
    "d = {'Id':idi,'mph':mphi}\n",
    "df=pd.DataFrame(d)\n",
    "df.set_index('Id');\n",
    "node_Pr_A26 = node_FC.cdf_probability(df['mph'])\n",
    "node_damage_state = node_FC.sample_damage_state(node_Pr_A26)\n",
    "node_damage_state_map = node_FC.get_level_map()\n",
    "node_damage_valA26= node_damage_state.map(node_damage_state_map)\n",
    "id_valA26=df.Id\n",
    "node_damage_valA26.value_counts()"
   ]
  },
  {
   "cell_type": "code",
   "execution_count": 331,
   "metadata": {},
   "outputs": [
    {
     "data": {
      "text/plain": [
       "2    13\n",
       "1     9\n",
       "4     6\n",
       "3     2\n",
       "0     2\n",
       "dtype: int64"
      ]
     },
     "execution_count": 331,
     "metadata": {},
     "output_type": "execute_result"
    }
   ],
   "source": [
    "np.random.seed(1234)\n",
    "node_FC=sp.Fragility()\n",
    "node_FC.add_dam_state('DS1', 1, {'Default': lognorm(0.14, scale=106.66)})  \n",
    "node_FC.add_dam_state('DS2', 2, {'Default': lognorm(0.12, scale=126.09)})\n",
    "node_FC.add_dam_state('DS3', 3, {'Default': lognorm(0.11, scale=137.42)})\n",
    "node_FC.add_dam_state('DS4', 4, {'Default': lognorm(0.12, scale=142.53)})\n",
    "idi=node[(node.type=='A30')].id\n",
    "mphi=node[(node.type=='A30')].mph\n",
    "d = {'Id':idi,'mph':mphi}\n",
    "df=pd.DataFrame(d)\n",
    "df.set_index('Id');\n",
    "node_Pr_A30 = node_FC.cdf_probability(df['mph'])\n",
    "node_damage_state = node_FC.sample_damage_state(node_Pr_A30)\n",
    "node_damage_state_map = node_FC.get_level_map()\n",
    "node_damage_valA30= node_damage_state.map(node_damage_state_map)\n",
    "id_valA30=df.Id\n",
    "node_damage_valA30.value_counts()"
   ]
  },
  {
   "cell_type": "code",
   "execution_count": 332,
   "metadata": {},
   "outputs": [
    {
     "data": {
      "text/plain": [
       "1    1\n",
       "dtype: int64"
      ]
     },
     "execution_count": 332,
     "metadata": {},
     "output_type": "execute_result"
    }
   ],
   "source": [
    "np.random.seed(1234)\n",
    "node_FC=sp.Fragility()\n",
    "node_FC.add_dam_state('DS1', 1, {'Default': lognorm(0.14, scale=113.63)})  \n",
    "node_FC.add_dam_state('DS2', 2, {'Default': lognorm(0.12, scale=136.38)})\n",
    "node_FC.add_dam_state('DS3', 3, {'Default': lognorm(0.11, scale=158.00)})\n",
    "node_FC.add_dam_state('DS4', 4, {'Default': lognorm(0.11, scale=176.68)})\n",
    "idi=node[(node.type=='A50')].id\n",
    "mphi=node[(node.type=='A50')].mph\n",
    "d = {'Id':idi,'mph':mphi}\n",
    "df=pd.DataFrame(d)\n",
    "df.set_index('Id');\n",
    "node_Pr_A50 = node_FC.cdf_probability(df['mph'])\n",
    "node_damage_state = node_FC.sample_damage_state(node_Pr_A50)\n",
    "node_damage_state_map = node_FC.get_level_map()\n",
    "node_damage_valA50= node_damage_state.map(node_damage_state_map)\n",
    "id_valA50=df.Id\n",
    "node_damage_valA50.value_counts()"
   ]
  },
  {
   "cell_type": "code",
   "execution_count": 333,
   "metadata": {},
   "outputs": [
    {
     "data": {
      "text/plain": [
       "Series([], dtype: int64)"
      ]
     },
     "execution_count": 333,
     "metadata": {},
     "output_type": "execute_result"
    }
   ],
   "source": [
    "np.random.seed(1234)\n",
    "node_FC=sp.Fragility()\n",
    "node_FC.add_dam_state('DS1', 1, {'Default': lognorm(0.13, scale=117.64)})  \n",
    "node_FC.add_dam_state('DS2', 2, {'Default': lognorm(0.12, scale=139.82)})\n",
    "node_FC.add_dam_state('DS3', 3, {'Default': lognorm(0.11, scale=160.69)})\n",
    "node_FC.add_dam_state('DS4', 4, {'Default': lognorm(0.10, scale=179.27)})\n",
    "idi=node[(node.type=='A54')].id\n",
    "mphi=node[(node.type=='A54')].mph\n",
    "d = {'Id':idi,'mph':mphi}\n",
    "df=pd.DataFrame(d)\n",
    "df.set_index('Id');\n",
    "node_Pr_A54 = node_FC.cdf_probability(df['mph'])\n",
    "node_damage_state = node_FC.sample_damage_state(node_Pr_A54)\n",
    "node_damage_state_map = node_FC.get_level_map()\n",
    "node_damage_valA54= node_damage_state.map(node_damage_state_map)\n",
    "id_valA54=df.Id\n",
    "node_damage_valA54.value_counts()"
   ]
  },
  {
   "cell_type": "code",
   "execution_count": 334,
   "metadata": {},
   "outputs": [
    {
     "data": {
      "text/plain": [
       "3    1\n",
       "dtype: int64"
      ]
     },
     "execution_count": 334,
     "metadata": {},
     "output_type": "execute_result"
    }
   ],
   "source": [
    "np.random.seed(1234)\n",
    "node_FC=sp.Fragility()\n",
    "node_FC.add_dam_state('DS1', 1, {'Default': lognorm(0.13, scale=117.64)})  \n",
    "node_FC.add_dam_state('DS2', 2, {'Default': lognorm(0.12, scale=139.82)})\n",
    "node_FC.add_dam_state('DS3', 3, {'Default': lognorm(0.11, scale=160.69)})\n",
    "node_FC.add_dam_state('DS4', 4, {'Default': lognorm(0.10, scale=179.27)})\n",
    "idi=node[(node.type=='A56')].id\n",
    "mphi=node[(node.type=='A56')].mph\n",
    "d = {'Id':idi,'mph':mphi}\n",
    "df=pd.DataFrame(d)\n",
    "df.set_index('Id');\n",
    "node_Pr_A56 = node_FC.cdf_probability(df['mph'])\n",
    "node_damage_state = node_FC.sample_damage_state(node_Pr_A56)\n",
    "node_damage_state_map = node_FC.get_level_map()\n",
    "node_damage_valA56= node_damage_state.map(node_damage_state_map)\n",
    "id_valA56=df.Id\n",
    "node_damage_valA56.value_counts()"
   ]
  },
  {
   "cell_type": "code",
   "execution_count": 335,
   "metadata": {},
   "outputs": [
    {
     "data": {
      "text/plain": [
       "1    17\n",
       "2     8\n",
       "4     7\n",
       "0     5\n",
       "dtype: int64"
      ]
     },
     "execution_count": 335,
     "metadata": {},
     "output_type": "execute_result"
    }
   ],
   "source": [
    "np.random.seed(1234)\n",
    "node_FC=sp.Fragility()\n",
    "node_FC.add_dam_state('DS1', 1, {'Default': lognorm(0.14, scale=113.26)})  \n",
    "node_FC.add_dam_state('DS2', 2, {'Default': lognorm(0.12, scale=134.56)})\n",
    "node_FC.add_dam_state('DS3', 3, {'Default': lognorm(0.11, scale=144.66)})\n",
    "node_FC.add_dam_state('DS4', 4, {'Default': lognorm(0.12, scale=146.69)})\n",
    "idi=node[(node.type=='A58')].id\n",
    "mphi=node[(node.type=='A58')].mph\n",
    "d = {'Id':idi,'mph':mphi}\n",
    "df=pd.DataFrame(d)\n",
    "df.set_index('Id');\n",
    "node_Pr_A58 = node_FC.cdf_probability(df['mph'])\n",
    "node_damage_state = node_FC.sample_damage_state(node_Pr_A58)\n",
    "node_damage_state_map = node_FC.get_level_map()\n",
    "node_damage_valA58= node_damage_state.map(node_damage_state_map)\n",
    "id_valA58=df.Id\n",
    "node_damage_valA58.value_counts()"
   ]
  },
  {
   "cell_type": "code",
   "execution_count": 336,
   "metadata": {},
   "outputs": [
    {
     "data": {
      "text/plain": [
       "1    14\n",
       "2     5\n",
       "4     4\n",
       "0     4\n",
       "3     2\n",
       "dtype: int64"
      ]
     },
     "execution_count": 336,
     "metadata": {},
     "output_type": "execute_result"
    }
   ],
   "source": [
    "np.random.seed(1234)\n",
    "node_FC=sp.Fragility()\n",
    "node_FC.add_dam_state('DS1', 1, {'Default': lognorm(0.14, scale=117.68)})  \n",
    "node_FC.add_dam_state('DS2', 2, {'Default': lognorm(0.12, scale=139.27)})\n",
    "node_FC.add_dam_state('DS3', 3, {'Default': lognorm(0.11, scale=153.16)})\n",
    "node_FC.add_dam_state('DS4', 4, {'Default': lognorm(0.12, scale=157.78)})\n",
    "idi=node[(node.type=='A62')].id\n",
    "mphi=node[(node.type=='A62')].mph\n",
    "d = {'Id':idi,'mph':mphi}\n",
    "df=pd.DataFrame(d)\n",
    "df.set_index('Id');\n",
    "node_Pr_A62 = node_FC.cdf_probability(df['mph'])\n",
    "node_damage_state = node_FC.sample_damage_state(node_Pr_A62)\n",
    "node_damage_state_map = node_FC.get_level_map()\n",
    "node_damage_valA62= node_damage_state.map(node_damage_state_map)\n",
    "id_valA62=df.Id\n",
    "node_damage_valA62.value_counts()"
   ]
  },
  {
   "cell_type": "code",
   "execution_count": 337,
   "metadata": {},
   "outputs": [
    {
     "data": {
      "text/plain": [
       "0    13\n",
       "1     7\n",
       "2     1\n",
       "4     1\n",
       "dtype: int64"
      ]
     },
     "execution_count": 337,
     "metadata": {},
     "output_type": "execute_result"
    }
   ],
   "source": [
    "np.random.seed(1234)\n",
    "node_FC=sp.Fragility()\n",
    "node_FC.add_dam_state('DS1', 1, {'Default': lognorm(0.14, scale=139.90)})  \n",
    "node_FC.add_dam_state('DS2', 2, {'Default': lognorm(0.11, scale=157.79)})\n",
    "node_FC.add_dam_state('DS3', 3, {'Default': lognorm(0.10, scale=171.78)})\n",
    "node_FC.add_dam_state('DS4', 4, {'Default': lognorm(0.10, scale=173.71)})\n",
    "idi=node[(node.type=='B32')].id\n",
    "mphi=node[(node.type=='B32')].mph\n",
    "d = {'Id':idi,'mph':mphi}\n",
    "df=pd.DataFrame(d)\n",
    "df.set_index('Id');\n",
    "node_Pr_B32 = node_FC.cdf_probability(df['mph'])\n",
    "node_damage_state = node_FC.sample_damage_state(node_Pr_B32)\n",
    "node_damage_state_map = node_FC.get_level_map()\n",
    "node_damage_valB32= node_damage_state.map(node_damage_state_map)\n",
    "id_valB32=df.Id\n",
    "node_damage_valB32.value_counts()"
   ]
  },
  {
   "cell_type": "code",
   "execution_count": 338,
   "metadata": {},
   "outputs": [
    {
     "data": {
      "text/plain": [
       "2    3\n",
       "4    1\n",
       "0    1\n",
       "dtype: int64"
      ]
     },
     "execution_count": 338,
     "metadata": {},
     "output_type": "execute_result"
    }
   ],
   "source": [
    "np.random.seed(1234)\n",
    "node_FC=sp.Fragility()\n",
    "node_FC.add_dam_state('DS1', 1, {'Default': lognorm(0.13, scale=127.66)})  \n",
    "node_FC.add_dam_state('DS2', 2, {'Default': lognorm(0.12, scale=134.68)})\n",
    "node_FC.add_dam_state('DS3', 3, {'Default': lognorm(0.11, scale=149.38)})\n",
    "node_FC.add_dam_state('DS4', 4, {'Default': lognorm(0.13, scale=156.24)})\n",
    "idi=node[(node.type=='B35')].id\n",
    "mphi=node[(node.type=='B35')].mph\n",
    "d = {'Id':idi,'mph':mphi}\n",
    "df=pd.DataFrame(d)\n",
    "df.set_index('Id');\n",
    "node_Pr_B35 = node_FC.cdf_probability(df['mph'])\n",
    "node_damage_state = node_FC.sample_damage_state(node_Pr_B35)\n",
    "node_damage_state_map = node_FC.get_level_map()\n",
    "node_damage_valB35= node_damage_state.map(node_damage_state_map)\n",
    "id_valB35=df.Id\n",
    "node_damage_valB35.value_counts()"
   ]
  },
  {
   "cell_type": "code",
   "execution_count": 339,
   "metadata": {},
   "outputs": [
    {
     "data": {
      "text/plain": [
       "2    1\n",
       "dtype: int64"
      ]
     },
     "execution_count": 339,
     "metadata": {},
     "output_type": "execute_result"
    }
   ],
   "source": [
    "np.random.seed(1234)\n",
    "node_FC=sp.Fragility()\n",
    "node_FC.add_dam_state('DS1', 1, {'Default': lognorm(0.13, scale=127.31)})  \n",
    "node_FC.add_dam_state('DS2', 2, {'Default': lognorm(0.12, scale=133.31)})\n",
    "node_FC.add_dam_state('DS3', 3, {'Default': lognorm(0.12, scale=145.17)})\n",
    "node_FC.add_dam_state('DS4', 4, {'Default': lognorm(0.13, scale=148.34)})\n",
    "idi=node[(node.type=='B37')].id\n",
    "mphi=node[(node.type=='B37')].mph\n",
    "d = {'Id':idi,'mph':mphi}\n",
    "df=pd.DataFrame(d)\n",
    "df.set_index('Id');\n",
    "node_Pr_B37 = node_FC.cdf_probability(df['mph'])\n",
    "node_damage_state = node_FC.sample_damage_state(node_Pr_B37)\n",
    "node_damage_state_map = node_FC.get_level_map()\n",
    "node_damage_valB37= node_damage_state.map(node_damage_state_map)\n",
    "id_valB37=df.Id\n",
    "node_damage_valB37.value_counts()"
   ]
  },
  {
   "cell_type": "code",
   "execution_count": 340,
   "metadata": {},
   "outputs": [
    {
     "data": {
      "text/plain": [
       "3    1\n",
       "1    1\n",
       "dtype: int64"
      ]
     },
     "execution_count": 340,
     "metadata": {},
     "output_type": "execute_result"
    }
   ],
   "source": [
    "np.random.seed(1234)\n",
    "node_FC=sp.Fragility()\n",
    "node_FC.add_dam_state('DS1', 1, {'Default': lognorm(0.13, scale=113.93)})  \n",
    "node_FC.add_dam_state('DS2', 2, {'Default': lognorm(0.12, scale=137.45)})\n",
    "node_FC.add_dam_state('DS3', 3, {'Default': lognorm(0.11, scale=161.16)})\n",
    "node_FC.add_dam_state('DS4', 4, {'Default': lognorm(0.06, scale=185.76)})\n",
    "idi=node[(node.type=='C14')].id\n",
    "mphi=node[(node.type=='C14')].mph\n",
    "d = {'Id':idi,'mph':mphi}\n",
    "df=pd.DataFrame(d)\n",
    "df.set_index('Id');\n",
    "node_Pr_C14 = node_FC.cdf_probability(df['mph'])\n",
    "node_damage_state = node_FC.sample_damage_state(node_Pr_C14)\n",
    "node_damage_state_map = node_FC.get_level_map()\n",
    "node_damage_valC14= node_damage_state.map(node_damage_state_map)\n",
    "id_valC14=df.Id\n",
    "node_damage_valC14.value_counts()"
   ]
  },
  {
   "cell_type": "code",
   "execution_count": 341,
   "metadata": {},
   "outputs": [
    {
     "data": {
      "text/plain": [
       "3    1\n",
       "dtype: int64"
      ]
     },
     "execution_count": 341,
     "metadata": {},
     "output_type": "execute_result"
    }
   ],
   "source": [
    "np.random.seed(1234)\n",
    "node_FC=sp.Fragility()\n",
    "node_FC.add_dam_state('DS1', 1, {'Default': lognorm(0.13, scale=104.84)})  \n",
    "node_FC.add_dam_state('DS2', 2, {'Default': lognorm(0.12, scale=126.33)})\n",
    "node_FC.add_dam_state('DS3', 3, {'Default': lognorm(0.11, scale=149.14)})\n",
    "node_FC.add_dam_state('DS4', 4, {'Default': lognorm(0.06, scale=160.38)})\n",
    "idi=node[(node.type=='C24')].id\n",
    "mphi=node[(node.type=='C24')].mph\n",
    "d = {'Id':idi,'mph':mphi}\n",
    "df=pd.DataFrame(d)\n",
    "df.set_index('Id');\n",
    "node_Pr_C24 = node_FC.cdf_probability(df['mph'])\n",
    "node_damage_state = node_FC.sample_damage_state(node_Pr_C24)\n",
    "node_damage_state_map = node_FC.get_level_map()\n",
    "node_damage_valC24= node_damage_state.map(node_damage_state_map)\n",
    "id_valC24=df.Id\n",
    "node_damage_valC24.value_counts()"
   ]
  },
  {
   "cell_type": "code",
   "execution_count": 342,
   "metadata": {},
   "outputs": [
    {
     "data": {
      "text/plain": [
       "4    1\n",
       "dtype: int64"
      ]
     },
     "execution_count": 342,
     "metadata": {},
     "output_type": "execute_result"
    }
   ],
   "source": [
    "np.random.seed(1234)\n",
    "node_FC=sp.Fragility()\n",
    "node_FC.add_dam_state('DS1', 1, {'Default': lognorm(0.13, scale=100.16)})  \n",
    "node_FC.add_dam_state('DS2', 2, {'Default': lognorm(0.11, scale=119.90)})\n",
    "node_FC.add_dam_state('DS3', 3, {'Default': lognorm(0.09, scale=142.55)})\n",
    "node_FC.add_dam_state('DS4', 4, {'Default': lognorm(0.11, scale=148.21)})\n",
    "idi=node[(node.type=='C25')].id\n",
    "mphi=node[(node.type=='C25')].mph\n",
    "d = {'Id':idi,'mph':mphi}\n",
    "df=pd.DataFrame(d)\n",
    "df.set_index('Id');\n",
    "node_Pr_C25 = node_FC.cdf_probability(df['mph'])\n",
    "node_damage_state = node_FC.sample_damage_state(node_Pr_C25)\n",
    "node_damage_state_map = node_FC.get_level_map()\n",
    "node_damage_valC25= node_damage_state.map(node_damage_state_map)\n",
    "id_valC25=df.Id\n",
    "node_damage_valC25.value_counts()"
   ]
  },
  {
   "cell_type": "code",
   "execution_count": 343,
   "metadata": {},
   "outputs": [
    {
     "data": {
      "text/plain": [
       "3    1\n",
       "dtype: int64"
      ]
     },
     "execution_count": 343,
     "metadata": {},
     "output_type": "execute_result"
    }
   ],
   "source": [
    "np.random.seed(1234)\n",
    "node_FC=sp.Fragility()\n",
    "node_FC.add_dam_state('DS1', 1, {'Default': lognorm(0.19, scale=120.37)})  \n",
    "node_FC.add_dam_state('DS2', 2, {'Default': lognorm(0.19, scale=132.80)})\n",
    "node_FC.add_dam_state('DS3', 3, {'Default': lognorm(0.17, scale=144.93)})\n",
    "node_FC.add_dam_state('DS4', 4, {'Default': lognorm(0.15, scale=151.33)})\n",
    "idi=node[(node.type=='D10')].id\n",
    "mphi=node[(node.type=='D10')].mph\n",
    "d = {'Id':idi,'mph':mphi}\n",
    "df=pd.DataFrame(d)\n",
    "df.set_index('Id');\n",
    "node_Pr_D10 = node_FC.cdf_probability(df['mph'])\n",
    "node_damage_state = node_FC.sample_damage_state(node_Pr_D10)\n",
    "node_damage_state_map = node_FC.get_level_map()\n",
    "node_damage_valD10= node_damage_state.map(node_damage_state_map)\n",
    "id_valD10=df.Id\n",
    "node_damage_valD10.value_counts()"
   ]
  },
  {
   "cell_type": "code",
   "execution_count": 344,
   "metadata": {},
   "outputs": [
    {
     "data": {
      "text/plain": [
       "4    1\n",
       "dtype: int64"
      ]
     },
     "execution_count": 344,
     "metadata": {},
     "output_type": "execute_result"
    }
   ],
   "source": [
    "np.random.seed(1234)\n",
    "node_FC=sp.Fragility()\n",
    "node_FC.add_dam_state('DS1', 1, {'Default': lognorm(0.16, scale=128.76)})  \n",
    "node_FC.add_dam_state('DS2', 2, {'Default': lognorm(0.15, scale=130.61)})\n",
    "node_FC.add_dam_state('DS3', 3, {'Default': lognorm(0.15, scale=133.78)})\n",
    "node_FC.add_dam_state('DS4', 4, {'Default': lognorm(0.14, scale=151.04)})\n",
    "idi=node[(node.type=='E6')].id\n",
    "mphi=node[(node.type=='E6')].mph\n",
    "d = {'Id':idi,'mph':mphi}\n",
    "df=pd.DataFrame(d)\n",
    "df.set_index('Id');\n",
    "node_Pr_E6 = node_FC.cdf_probability(df['mph'])\n",
    "node_damage_state = node_FC.sample_damage_state(node_Pr_E6)\n",
    "node_damage_state_map = node_FC.get_level_map()\n",
    "node_damage_valE6= node_damage_state.map(node_damage_state_map)\n",
    "id_valE6=df.Id\n",
    "node_damage_valE6.value_counts()"
   ]
  },
  {
   "cell_type": "code",
   "execution_count": 345,
   "metadata": {},
   "outputs": [
    {
     "data": {
      "text/plain": [
       "Series([], dtype: int64)"
      ]
     },
     "execution_count": 345,
     "metadata": {},
     "output_type": "execute_result"
    }
   ],
   "source": [
    "np.random.seed(1234)\n",
    "node_FC=sp.Fragility()\n",
    "node_FC.add_dam_state('DS1', 1, {'Default': lognorm(0.16, scale=120.12)})  \n",
    "node_FC.add_dam_state('DS2', 2, {'Default': lognorm(0.16, scale=121.59)})\n",
    "node_FC.add_dam_state('DS3', 3, {'Default': lognorm(0.15, scale=132.01)})\n",
    "node_FC.add_dam_state('DS4', 4, {'Default': lognorm(0.09, scale=178.87)})\n",
    "idi=node[(node.type=='E7')].id\n",
    "mphi=node[(node.type=='E7')].mph\n",
    "d = {'Id':idi,'mph':mphi}\n",
    "df=pd.DataFrame(d)\n",
    "df.set_index('Id');\n",
    "node_Pr_E7 = node_FC.cdf_probability(df['mph'])\n",
    "node_damage_state = node_FC.sample_damage_state(node_Pr_E7)\n",
    "node_damage_state_map = node_FC.get_level_map()\n",
    "node_damage_valE7= node_damage_state.map(node_damage_state_map)\n",
    "id_valE7=df.Id\n",
    "node_damage_valE7.value_counts()"
   ]
  },
  {
   "cell_type": "code",
   "execution_count": 346,
   "metadata": {},
   "outputs": [
    {
     "data": {
      "text/plain": [
       "Series([], dtype: int64)"
      ]
     },
     "execution_count": 346,
     "metadata": {},
     "output_type": "execute_result"
    }
   ],
   "source": [
    "np.random.seed(1234)\n",
    "node_FC=sp.Fragility()\n",
    "node_FC.add_dam_state('DS1', 1, {'Default': lognorm(0.16, scale=103.39)})  \n",
    "node_FC.add_dam_state('DS2', 2, {'Default': lognorm(0.16, scale=103.98)})\n",
    "node_FC.add_dam_state('DS3', 3, {'Default': lognorm(0.15, scale=119.89)})\n",
    "node_FC.add_dam_state('DS4', 4, {'Default': lognorm(0.09, scale=169.27)})\n",
    "idi=node[(node.type=='E8')].id\n",
    "mphi=node[(node.type=='E8')].mph\n",
    "d = {'Id':idi,'mph':mphi}\n",
    "df=pd.DataFrame(d)\n",
    "df.set_index('Id');\n",
    "node_Pr_E8 = node_FC.cdf_probability(df['mph'])\n",
    "node_damage_state = node_FC.sample_damage_state(node_Pr_E8)\n",
    "node_damage_state_map = node_FC.get_level_map()\n",
    "node_damage_valE8= node_damage_state.map(node_damage_state_map)\n",
    "id_valE8=df.Id\n",
    "node_damage_valE8.value_counts()"
   ]
  },
  {
   "cell_type": "code",
   "execution_count": 347,
   "metadata": {},
   "outputs": [
    {
     "data": {
      "text/plain": [
       "3    5\n",
       "2    3\n",
       "1    1\n",
       "0    1\n",
       "dtype: int64"
      ]
     },
     "execution_count": 347,
     "metadata": {},
     "output_type": "execute_result"
    }
   ],
   "source": [
    "np.random.seed(1234)\n",
    "node_FC=sp.Fragility()\n",
    "node_FC.add_dam_state('DS1', 1, {'Default': lognorm(0.16, scale=102.51)})  \n",
    "node_FC.add_dam_state('DS2', 2, {'Default': lognorm(0.16, scale=109.71)})\n",
    "node_FC.add_dam_state('DS3', 3, {'Default': lognorm(0.15, scale=119.93)})\n",
    "node_FC.add_dam_state('DS4', 4, {'Default': lognorm(0.09, scale=187.27)})\n",
    "idi=node[(node.type=='F16')].id\n",
    "mphi=node[(node.type=='F16')].mph\n",
    "d = {'Id':idi,'mph':mphi}\n",
    "df=pd.DataFrame(d)\n",
    "df.set_index('Id');\n",
    "node_Pr_F16 = node_FC.cdf_probability(df['mph'])\n",
    "node_damage_state = node_FC.sample_damage_state(node_Pr_F16)\n",
    "node_damage_state_map = node_FC.get_level_map()\n",
    "node_damage_valF16= node_damage_state.map(node_damage_state_map)\n",
    "id_valF16=df.Id\n",
    "node_damage_valF16.value_counts()"
   ]
  },
  {
   "cell_type": "code",
   "execution_count": 348,
   "metadata": {},
   "outputs": [
    {
     "data": {
      "text/plain": [
       "Series([], dtype: int64)"
      ]
     },
     "execution_count": 348,
     "metadata": {},
     "output_type": "execute_result"
    }
   ],
   "source": [
    "np.random.seed(1234)\n",
    "node_FC=sp.Fragility()\n",
    "node_FC.add_dam_state('DS1', 1, {'Default': lognorm(0.16, scale=105.45)})  \n",
    "node_FC.add_dam_state('DS2', 2, {'Default': lognorm(0.16, scale=111.09)})\n",
    "node_FC.add_dam_state('DS3', 3, {'Default': lognorm(0.15, scale=118.92)})\n",
    "node_FC.add_dam_state('DS4', 4, {'Default': lognorm(0.09, scale=136.03)})\n",
    "idi=node[(node.type=='G4')].id\n",
    "mphi=node[(node.type=='G4')].mph\n",
    "d = {'Id':idi,'mph':mphi}\n",
    "df=pd.DataFrame(d)\n",
    "df.set_index('Id');\n",
    "node_Pr_G4 = node_FC.cdf_probability(df['mph'])\n",
    "node_damage_state = node_FC.sample_damage_state(node_Pr_G4)\n",
    "node_damage_state_map = node_FC.get_level_map()\n",
    "node_damage_valG4= node_damage_state.map(node_damage_state_map)\n",
    "id_valG4=df.Id\n",
    "node_damage_valG4.value_counts()"
   ]
  },
  {
   "cell_type": "code",
   "execution_count": 349,
   "metadata": {},
   "outputs": [],
   "source": [
    "idd=id_valA10.append(id_valA14).append(id_valA18).append(id_valA22).append(id_valA26).append(id_valA30).append(id_valA50).append(id_valA54).append(id_valA56).append(id_valA58).append(id_valA62).append(id_valB32).append(id_valB35).append(id_valB37).append(id_valC14).append(id_valC24).append(id_valC25).append(id_valD10).append(id_valE6).append(id_valE7).append(id_valE8).append(id_valF16).append(id_valG4)"
   ]
  },
  {
   "cell_type": "code",
   "execution_count": 350,
   "metadata": {},
   "outputs": [],
   "source": [
    "rcc=node_damage_valA10.append(node_damage_valA14).append(node_damage_valA18).append(node_damage_valA22).append(node_damage_valA26).append(node_damage_valA30).append(node_damage_valA50).append(node_damage_valA54).append(node_damage_valA56).append(node_damage_valA58).append(node_damage_valA62).append(node_damage_valB32).append(node_damage_valB35).append(node_damage_valB37).append(node_damage_valC14).append(node_damage_valC24).append(node_damage_valC25).append(node_damage_valD10).append(node_damage_valE6).append(node_damage_valE7).append(node_damage_valE8).append(node_damage_valF16).append(node_damage_valG4)"
   ]
  },
  {
   "cell_type": "code",
   "execution_count": 351,
   "metadata": {},
   "outputs": [],
   "source": [
    "# Pf=node_Pr_A10.append(node_Pr_A14).append(node_Pr_A18).append(node_Pr_A22).append(node_Pr_A26).append(node_Pr_A30).append(node_Pr_A50).append(node_Pr_A54).append(node_Pr_A56).append(node_Pr_A58).append(node_Pr_A62).append(node_Pr_B32).append(node_Pr_B35).append(node_Pr_B37).append(node_Pr_C14).append(node_Pr_C24).append(node_Pr_C25).append(node_Pr_D10).append(node_Pr_E6).append(node_Pr_E7).append(node_Pr_E8).append(node_Pr_F16).append(node_Pr_G4)"
   ]
  },
  {
   "cell_type": "code",
   "execution_count": 352,
   "metadata": {},
   "outputs": [],
   "source": [
    "# DD=node_Pr_A10.DS1"
   ]
  },
  {
   "cell_type": "code",
   "execution_count": 353,
   "metadata": {},
   "outputs": [],
   "source": [
    "DS1=node_Pr_A10.DS1.append(node_Pr_A14.DS1).append(node_Pr_A18.DS1).append(node_Pr_A22.DS1).append(node_Pr_A26.DS1).append(node_Pr_A30.DS1).append(node_Pr_A50.DS1).append(node_Pr_A54.DS1).append(node_Pr_A56.DS1).append(node_Pr_A58.DS1).append(node_Pr_A62.DS1).append(node_Pr_B32.DS1).append(node_Pr_B35.DS1).append(node_Pr_B37.DS1).append(node_Pr_C14.DS1).append(node_Pr_C24.DS1).append(node_Pr_C25.DS1).append(node_Pr_D10.DS1).append(node_Pr_E6.DS1).append(node_Pr_E7.DS1).append(node_Pr_E8.DS1).append(node_Pr_F16.DS1).append(node_Pr_G4.DS1)"
   ]
  },
  {
   "cell_type": "code",
   "execution_count": 354,
   "metadata": {},
   "outputs": [],
   "source": [
    "DS2=node_Pr_A10.DS2.append(node_Pr_A14.DS2).append(node_Pr_A18.DS2).append(node_Pr_A22.DS2).append(node_Pr_A26.DS2).append(node_Pr_A30.DS2).append(node_Pr_A50.DS2).append(node_Pr_A54.DS2).append(node_Pr_A56.DS2).append(node_Pr_A58.DS2).append(node_Pr_A62.DS2).append(node_Pr_B32.DS2).append(node_Pr_B35.DS2).append(node_Pr_B37.DS2).append(node_Pr_C14.DS2).append(node_Pr_C24.DS2).append(node_Pr_C25.DS2).append(node_Pr_D10.DS2).append(node_Pr_E6.DS2).append(node_Pr_E7.DS2).append(node_Pr_E8.DS2).append(node_Pr_F16.DS2).append(node_Pr_G4.DS2)"
   ]
  },
  {
   "cell_type": "code",
   "execution_count": 355,
   "metadata": {},
   "outputs": [],
   "source": [
    "DS3=node_Pr_A10.DS3.append(node_Pr_A14.DS3).append(node_Pr_A18.DS3).append(node_Pr_A22.DS3).append(node_Pr_A26.DS3).append(node_Pr_A30.DS3).append(node_Pr_A50.DS3).append(node_Pr_A54.DS3).append(node_Pr_A56.DS3).append(node_Pr_A58.DS3).append(node_Pr_A62.DS3).append(node_Pr_B32.DS3).append(node_Pr_B35.DS3).append(node_Pr_B37.DS3).append(node_Pr_C14.DS3).append(node_Pr_C24.DS3).append(node_Pr_C25.DS3).append(node_Pr_D10.DS3).append(node_Pr_E6.DS3).append(node_Pr_E7.DS3).append(node_Pr_E8.DS3).append(node_Pr_F16.DS3).append(node_Pr_G4.DS3)"
   ]
  },
  {
   "cell_type": "code",
   "execution_count": 356,
   "metadata": {},
   "outputs": [],
   "source": [
    "DS4=node_Pr_A10.DS4.append(node_Pr_A14.DS4).append(node_Pr_A18.DS4).append(node_Pr_A22.DS4).append(node_Pr_A26.DS4).append(node_Pr_A30.DS4).append(node_Pr_A50.DS4).append(node_Pr_A54.DS4).append(node_Pr_A56.DS4).append(node_Pr_A58.DS4).append(node_Pr_A62.DS4).append(node_Pr_B32.DS4).append(node_Pr_B35.DS4).append(node_Pr_B37.DS4).append(node_Pr_C14.DS4).append(node_Pr_C24.DS4).append(node_Pr_C25.DS4).append(node_Pr_D10.DS4).append(node_Pr_E6.DS4).append(node_Pr_E7.DS4).append(node_Pr_E8.DS4).append(node_Pr_F16.DS4).append(node_Pr_G4.DS4)"
   ]
  },
  {
   "cell_type": "code",
   "execution_count": 371,
   "metadata": {},
   "outputs": [],
   "source": [
    "sim_data = {'idd':idd,'DS1':DS1,'DS2':DS2,'DS3':DS3,'DS4':DS4, 'dmg':rcc}\n",
    "PDD=pd.DataFrame(sim_data)"
   ]
  },
  {
   "cell_type": "code",
   "execution_count": 372,
   "metadata": {},
   "outputs": [],
   "source": [
    "DS=PDD.sort_index()"
   ]
  },
  {
   "cell_type": "code",
   "execution_count": 376,
   "metadata": {},
   "outputs": [
    {
     "data": {
      "text/html": [
       "<div>\n",
       "<style scoped>\n",
       "    .dataframe tbody tr th:only-of-type {\n",
       "        vertical-align: middle;\n",
       "    }\n",
       "\n",
       "    .dataframe tbody tr th {\n",
       "        vertical-align: top;\n",
       "    }\n",
       "\n",
       "    .dataframe thead th {\n",
       "        text-align: right;\n",
       "    }\n",
       "</style>\n",
       "<table border=\"1\" class=\"dataframe\">\n",
       "  <thead>\n",
       "    <tr style=\"text-align: right;\">\n",
       "      <th></th>\n",
       "      <th>idd</th>\n",
       "      <th>DS1</th>\n",
       "      <th>DS2</th>\n",
       "      <th>DS3</th>\n",
       "      <th>DS4</th>\n",
       "      <th>dmg</th>\n",
       "    </tr>\n",
       "  </thead>\n",
       "  <tbody>\n",
       "    <tr>\n",
       "      <th>0</th>\n",
       "      <td>37754</td>\n",
       "      <td>0.96782</td>\n",
       "      <td>0.764829</td>\n",
       "      <td>0.551554</td>\n",
       "      <td>0.501062</td>\n",
       "      <td>4</td>\n",
       "    </tr>\n",
       "    <tr>\n",
       "      <th>1</th>\n",
       "      <td>45542</td>\n",
       "      <td>0.836688</td>\n",
       "      <td>0.394311</td>\n",
       "      <td>0.112328</td>\n",
       "      <td>0.064835</td>\n",
       "      <td>2</td>\n",
       "    </tr>\n",
       "    <tr>\n",
       "      <th>2</th>\n",
       "      <td>53669</td>\n",
       "      <td>0.946244</td>\n",
       "      <td>0.682253</td>\n",
       "      <td>0.364236</td>\n",
       "      <td>0.285736</td>\n",
       "      <td>4</td>\n",
       "    </tr>\n",
       "  </tbody>\n",
       "</table>\n",
       "</div>"
      ],
      "text/plain": [
       "     idd       DS1       DS2       DS3       DS4  dmg\n",
       "0  37754   0.96782  0.764829  0.551554  0.501062    4\n",
       "1  45542  0.836688  0.394311  0.112328  0.064835    2\n",
       "2  53669  0.946244  0.682253  0.364236  0.285736    4"
      ]
     },
     "execution_count": 376,
     "metadata": {},
     "output_type": "execute_result"
    }
   ],
   "source": [
    "#Damage States Probabilities\n",
    "DS.head(3)"
   ]
  },
  {
   "cell_type": "code",
   "execution_count": 377,
   "metadata": {},
   "outputs": [
    {
     "data": {
      "text/plain": [
       "(256, 17)"
      ]
     },
     "execution_count": 377,
     "metadata": {},
     "output_type": "execute_result"
    }
   ],
   "source": [
    "node.shape"
   ]
  },
  {
   "cell_type": "code",
   "execution_count": 378,
   "metadata": {},
   "outputs": [
    {
     "data": {
      "text/plain": [
       "(256, 6)"
      ]
     },
     "execution_count": 378,
     "metadata": {},
     "output_type": "execute_result"
    }
   ],
   "source": [
    "DS.shape"
   ]
  },
  {
   "cell_type": "code",
   "execution_count": null,
   "metadata": {},
   "outputs": [],
   "source": []
  },
  {
   "cell_type": "code",
   "execution_count": 382,
   "metadata": {},
   "outputs": [],
   "source": [
    "#Joining Damage States Data to Building Inventory\n",
    "RA_Out=node.merge(DS, left_on='id', right_on='idd')"
   ]
  },
  {
   "cell_type": "code",
   "execution_count": 383,
   "metadata": {},
   "outputs": [
    {
     "data": {
      "text/plain": [
       "(256, 23)"
      ]
     },
     "execution_count": 383,
     "metadata": {},
     "output_type": "execute_result"
    }
   ],
   "source": [
    "RA_Out.shape"
   ]
  },
  {
   "cell_type": "code",
   "execution_count": 384,
   "metadata": {},
   "outputs": [],
   "source": [
    "RA_Out.to_csv('RA_Output.csv')"
   ]
  },
  {
   "cell_type": "code",
   "execution_count": 385,
   "metadata": {},
   "outputs": [
    {
     "data": {
      "text/html": [
       "<div>\n",
       "<style scoped>\n",
       "    .dataframe tbody tr th:only-of-type {\n",
       "        vertical-align: middle;\n",
       "    }\n",
       "\n",
       "    .dataframe tbody tr th {\n",
       "        vertical-align: top;\n",
       "    }\n",
       "\n",
       "    .dataframe thead th {\n",
       "        text-align: right;\n",
       "    }\n",
       "</style>\n",
       "<table border=\"1\" class=\"dataframe\">\n",
       "  <thead>\n",
       "    <tr style=\"text-align: right;\">\n",
       "      <th></th>\n",
       "      <th>OBJECTID</th>\n",
       "      <th>x</th>\n",
       "      <th>y</th>\n",
       "      <th>Year</th>\n",
       "      <th>STRUCTURET</th>\n",
       "      <th>id</th>\n",
       "      <th>taxval</th>\n",
       "      <th>landuse</th>\n",
       "      <th>yearbuilt</th>\n",
       "      <th>storey</th>\n",
       "      <th>...</th>\n",
       "      <th>type</th>\n",
       "      <th>Area_m2</th>\n",
       "      <th>Area_ft2</th>\n",
       "      <th>mph</th>\n",
       "      <th>idd</th>\n",
       "      <th>DS1</th>\n",
       "      <th>DS2</th>\n",
       "      <th>DS3</th>\n",
       "      <th>DS4</th>\n",
       "      <th>dmg</th>\n",
       "    </tr>\n",
       "  </thead>\n",
       "  <tbody>\n",
       "    <tr>\n",
       "      <th>0</th>\n",
       "      <td>64590</td>\n",
       "      <td>77.211412</td>\n",
       "      <td>34.669224</td>\n",
       "      <td>2016</td>\n",
       "      <td>Hard Board (Hardy board or pla</td>\n",
       "      <td>37754</td>\n",
       "      <td>131940</td>\n",
       "      <td>Residential</td>\n",
       "      <td>2004</td>\n",
       "      <td>1</td>\n",
       "      <td>...</td>\n",
       "      <td>A58</td>\n",
       "      <td>2219.860665</td>\n",
       "      <td>11775.676390</td>\n",
       "      <td>146.736855</td>\n",
       "      <td>37754</td>\n",
       "      <td>0.96782</td>\n",
       "      <td>0.764829</td>\n",
       "      <td>0.551554</td>\n",
       "      <td>0.501062</td>\n",
       "      <td>4</td>\n",
       "    </tr>\n",
       "    <tr>\n",
       "      <th>1</th>\n",
       "      <td>120592</td>\n",
       "      <td>77.373893</td>\n",
       "      <td>34.767879</td>\n",
       "      <td>2006</td>\n",
       "      <td>Cedar/Redwood/Cypress</td>\n",
       "      <td>45542</td>\n",
       "      <td>133340</td>\n",
       "      <td>Residential</td>\n",
       "      <td>1988</td>\n",
       "      <td>1</td>\n",
       "      <td>...</td>\n",
       "      <td>A14</td>\n",
       "      <td>2783.299933</td>\n",
       "      <td>9727.959884</td>\n",
       "      <td>134.299058</td>\n",
       "      <td>45542</td>\n",
       "      <td>0.836688</td>\n",
       "      <td>0.394311</td>\n",
       "      <td>0.112328</td>\n",
       "      <td>0.064835</td>\n",
       "      <td>2</td>\n",
       "    </tr>\n",
       "    <tr>\n",
       "      <th>2</th>\n",
       "      <td>89645</td>\n",
       "      <td>77.160145</td>\n",
       "      <td>34.682143</td>\n",
       "      <td>2006</td>\n",
       "      <td>Cedar/Redwood/Cypress</td>\n",
       "      <td>53669</td>\n",
       "      <td>492240</td>\n",
       "      <td>Waterfront River/Creek</td>\n",
       "      <td>2001</td>\n",
       "      <td>1</td>\n",
       "      <td>...</td>\n",
       "      <td>A62</td>\n",
       "      <td>3483.491410</td>\n",
       "      <td>21968.291680</td>\n",
       "      <td>147.421464</td>\n",
       "      <td>53669</td>\n",
       "      <td>0.946244</td>\n",
       "      <td>0.682253</td>\n",
       "      <td>0.364236</td>\n",
       "      <td>0.285736</td>\n",
       "      <td>4</td>\n",
       "    </tr>\n",
       "    <tr>\n",
       "      <th>3</th>\n",
       "      <td>47967</td>\n",
       "      <td>77.443826</td>\n",
       "      <td>34.800179</td>\n",
       "      <td>2016</td>\n",
       "      <td>Aluminum/Vinyl</td>\n",
       "      <td>68961</td>\n",
       "      <td>167250</td>\n",
       "      <td>Residential</td>\n",
       "      <td>2007</td>\n",
       "      <td>1</td>\n",
       "      <td>...</td>\n",
       "      <td>A62</td>\n",
       "      <td>2672.812928</td>\n",
       "      <td>10502.671570</td>\n",
       "      <td>129.690412</td>\n",
       "      <td>68961</td>\n",
       "      <td>0.756206</td>\n",
       "      <td>0.2763</td>\n",
       "      <td>0.065252</td>\n",
       "      <td>0.051154</td>\n",
       "      <td>1</td>\n",
       "    </tr>\n",
       "    <tr>\n",
       "      <th>4</th>\n",
       "      <td>59405</td>\n",
       "      <td>77.541601</td>\n",
       "      <td>34.897484</td>\n",
       "      <td>2016</td>\n",
       "      <td>Aluminum/Vinyl</td>\n",
       "      <td>17408</td>\n",
       "      <td>46720</td>\n",
       "      <td>Residential</td>\n",
       "      <td>1960</td>\n",
       "      <td>1</td>\n",
       "      <td>...</td>\n",
       "      <td>A14</td>\n",
       "      <td>87.815423</td>\n",
       "      <td>5503.109841</td>\n",
       "      <td>119.759260</td>\n",
       "      <td>17408</td>\n",
       "      <td>0.539633</td>\n",
       "      <td>0.110669</td>\n",
       "      <td>0.012038</td>\n",
       "      <td>0.005278</td>\n",
       "      <td>0</td>\n",
       "    </tr>\n",
       "  </tbody>\n",
       "</table>\n",
       "<p>5 rows × 23 columns</p>\n",
       "</div>"
      ],
      "text/plain": [
       "   OBJECTID          x          y  Year                      STRUCTURET  \\\n",
       "0     64590  77.211412  34.669224  2016  Hard Board (Hardy board or pla   \n",
       "1    120592  77.373893  34.767879  2006           Cedar/Redwood/Cypress   \n",
       "2     89645  77.160145  34.682143  2006           Cedar/Redwood/Cypress   \n",
       "3     47967  77.443826  34.800179  2016                  Aluminum/Vinyl   \n",
       "4     59405  77.541601  34.897484  2016                  Aluminum/Vinyl   \n",
       "\n",
       "      id  taxval                 landuse  yearbuilt  storey  ... type  \\\n",
       "0  37754  131940             Residential       2004       1  ...  A58   \n",
       "1  45542  133340             Residential       1988       1  ...  A14   \n",
       "2  53669  492240  Waterfront River/Creek       2001       1  ...  A62   \n",
       "3  68961  167250             Residential       2007       1  ...  A62   \n",
       "4  17408   46720             Residential       1960       1  ...  A14   \n",
       "\n",
       "       Area_m2      Area_ft2         mph    idd       DS1       DS2       DS3  \\\n",
       "0  2219.860665  11775.676390  146.736855  37754   0.96782  0.764829  0.551554   \n",
       "1  2783.299933   9727.959884  134.299058  45542  0.836688  0.394311  0.112328   \n",
       "2  3483.491410  21968.291680  147.421464  53669  0.946244  0.682253  0.364236   \n",
       "3  2672.812928  10502.671570  129.690412  68961  0.756206    0.2763  0.065252   \n",
       "4    87.815423   5503.109841  119.759260  17408  0.539633  0.110669  0.012038   \n",
       "\n",
       "        DS4 dmg  \n",
       "0  0.501062   4  \n",
       "1  0.064835   2  \n",
       "2  0.285736   4  \n",
       "3  0.051154   1  \n",
       "4  0.005278   0  \n",
       "\n",
       "[5 rows x 23 columns]"
      ]
     },
     "execution_count": 385,
     "metadata": {},
     "output_type": "execute_result"
    }
   ],
   "source": [
    "RA_Out.head()"
   ]
  },
  {
   "cell_type": "code",
   "execution_count": 398,
   "metadata": {},
   "outputs": [
    {
     "data": {
      "text/plain": [
       "<matplotlib.collections.PathCollection at 0x7faa10807d00>"
      ]
     },
     "execution_count": 398,
     "metadata": {},
     "output_type": "execute_result"
    },
    {
     "data": {
      "image/png": "[encoded data removed]",
      "text/plain": [
       "<Figure size 432x288 with 1 Axes>"
      ]
     },
     "metadata": {
      "needs_background": "light"
     },
     "output_type": "display_data"
    }
   ],
   "source": [
    "# plotting data points\n",
    "fig = plt.figure(figsize=(6,4))\n",
    "plt.scatter(-RA_Out.x, -RA_Out.y,s=5, cmap=rcc)"
   ]
  },
  {
   "cell_type": "code",
   "execution_count": 397,
   "metadata": {},
   "outputs": [
    {
     "data": {
      "image/png": "[encoded data removed]",
      "text/plain": [
       "<Figure size 432x288 with 2 Axes>"
      ]
     },
     "metadata": {
      "needs_background": "light"
     },
     "output_type": "display_data"
    }
   ],
   "source": [
    "#Damage Scenario Plot\n",
    "x = RA_Out.x*1\n",
    "y = RA_Out.y\n",
    "label = RA_Out.dmg\n",
    "#None, Minor, Moderate, Extensive, Collapse\n",
    "colors = ['blue','green','yellow','orange','red']\n",
    "\n",
    "fig = plt.figure(figsize=(6,4))\n",
    "plt.scatter(-x,y, c=label, cmap=matplotlib.colors.ListedColormap(colors),s=2)\n",
    "\n",
    "cb = plt.colorbar()\n",
    "loc = np.arange(0,max(label),max(label)/float(len(colors)))\n",
    "cb.set_ticks(loc)\n",
    "cb.set_ticklabels(colors)"
   ]
  },
  {
   "cell_type": "code",
   "execution_count": 395,
   "metadata": {},
   "outputs": [
    {
     "data": {
      "image/png": "[encoded data removed]",
      "text/plain": [
       "<Figure size 432x288 with 1 Axes>"
      ]
     },
     "metadata": {
      "needs_background": "light"
     },
     "output_type": "display_data"
    }
   ],
   "source": [
    "#Damage States Summary\n",
    "dmg.dmg.hist()\n",
    "plt.xlabel('Damage States')\n",
    "plt.ylabel('No. of Buildings')\n",
    "plt.grid(False)"
   ]
  },
  {
   "cell_type": "code",
   "execution_count": null,
   "metadata": {},
   "outputs": [],
   "source": []
  }
 ],
 "metadata": {
  "kernelspec": {
   "display_name": "Python 3 (ipykernel)",
   "language": "python",
   "name": "python3"
  },
  "language_info": {
   "codemirror_mode": {
    "name": "ipython",
    "version": 3
   },
   "file_extension": ".py",
   "mimetype": "text/x-python",
   "name": "python",
   "nbconvert_exporter": "python",
   "pygments_lexer": "ipython3",
   "version": "3.9.7"
  }
 },
 "nbformat": 4,
 "nbformat_minor": 4
}
