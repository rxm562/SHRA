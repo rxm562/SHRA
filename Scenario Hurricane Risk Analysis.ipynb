{
 "cells": [
  {
   "cell_type": "markdown",
   "metadata": {},
   "source": [
    "## Scenario-based Hurricane Risk Analysis (SHRA) tool"
   ]
  },
  {
   "cell_type": "code",
   "execution_count": 1,
   "metadata": {},
   "outputs": [],
   "source": [
    "# Import dependencies of Scenario-based Hurricane Risk Analysis (SHRA)\n",
    "import time\n",
    "import pandas as pd\n",
    "import numpy as np\n",
    "import networkx as nx\n",
    "import matplotlib\n",
    "import matplotlib.pylab as plt\n",
    "import matplotlib.patches as mpatches\n",
    "from scipy.spatial import distance\n",
    "from scipy.stats import expon, lognorm\n",
    "from pyproj import Proj\n",
    "from pyproj import Proj, transform"
   ]
  },
  {
   "cell_type": "code",
   "execution_count": 2,
   "metadata": {},
   "outputs": [],
   "source": [
    "start = time.time()"
   ]
  },
  {
   "cell_type": "markdown",
   "metadata": {},
   "source": [
    "### 1. Hurricane Track Characteristics"
   ]
  },
  {
   "cell_type": "code",
   "execution_count": 3,
   "metadata": {},
   "outputs": [],
   "source": [
    "# Import Hurricane Historical Tracks\n",
    "data=pd.read_csv('InputTracks/hel_org.csv')"
   ]
  },
  {
   "cell_type": "code",
   "execution_count": 4,
   "metadata": {},
   "outputs": [
    {
     "data": {
      "text/html": [
       "<div>\n",
       "<style scoped>\n",
       "    .dataframe tbody tr th:only-of-type {\n",
       "        vertical-align: middle;\n",
       "    }\n",
       "\n",
       "    .dataframe tbody tr th {\n",
       "        vertical-align: top;\n",
       "    }\n",
       "\n",
       "    .dataframe thead th {\n",
       "        text-align: right;\n",
       "    }\n",
       "</style>\n",
       "<table border=\"1\" class=\"dataframe\">\n",
       "  <thead>\n",
       "    <tr style=\"text-align: right;\">\n",
       "      <th></th>\n",
       "      <th>Sl</th>\n",
       "      <th>Time</th>\n",
       "      <th>Lat</th>\n",
       "      <th>Long</th>\n",
       "      <th>CP</th>\n",
       "    </tr>\n",
       "  </thead>\n",
       "  <tbody>\n",
       "    <tr>\n",
       "      <th>0</th>\n",
       "      <td>1</td>\n",
       "      <td>0.0</td>\n",
       "      <td>31.60</td>\n",
       "      <td>78.30</td>\n",
       "      <td>943.00</td>\n",
       "    </tr>\n",
       "    <tr>\n",
       "      <th>1</th>\n",
       "      <td>2</td>\n",
       "      <td>0.5</td>\n",
       "      <td>31.66</td>\n",
       "      <td>78.33</td>\n",
       "      <td>942.17</td>\n",
       "    </tr>\n",
       "    <tr>\n",
       "      <th>2</th>\n",
       "      <td>3</td>\n",
       "      <td>1.0</td>\n",
       "      <td>31.72</td>\n",
       "      <td>78.35</td>\n",
       "      <td>941.33</td>\n",
       "    </tr>\n",
       "    <tr>\n",
       "      <th>3</th>\n",
       "      <td>4</td>\n",
       "      <td>1.5</td>\n",
       "      <td>31.78</td>\n",
       "      <td>78.38</td>\n",
       "      <td>940.50</td>\n",
       "    </tr>\n",
       "    <tr>\n",
       "      <th>4</th>\n",
       "      <td>5</td>\n",
       "      <td>2.0</td>\n",
       "      <td>31.83</td>\n",
       "      <td>78.40</td>\n",
       "      <td>939.67</td>\n",
       "    </tr>\n",
       "  </tbody>\n",
       "</table>\n",
       "</div>"
      ],
      "text/plain": [
       "   Sl  Time    Lat   Long      CP\n",
       "0   1   0.0  31.60  78.30  943.00\n",
       "1   2   0.5  31.66  78.33  942.17\n",
       "2   3   1.0  31.72  78.35  941.33\n",
       "3   4   1.5  31.78  78.38  940.50\n",
       "4   5   2.0  31.83  78.40  939.67"
      ]
     },
     "execution_count": 4,
     "metadata": {},
     "output_type": "execute_result"
    }
   ],
   "source": [
    "data. head(5)"
   ]
  },
  {
   "cell_type": "code",
   "execution_count": 5,
   "metadata": {},
   "outputs": [],
   "source": [
    "%run -i Scenario_Hazard.py"
   ]
  },
  {
   "cell_type": "code",
   "execution_count": 6,
   "metadata": {},
   "outputs": [
    {
     "data": {
      "text/html": [
       "<div>\n",
       "<style scoped>\n",
       "    .dataframe tbody tr th:only-of-type {\n",
       "        vertical-align: middle;\n",
       "    }\n",
       "\n",
       "    .dataframe tbody tr th {\n",
       "        vertical-align: top;\n",
       "    }\n",
       "\n",
       "    .dataframe thead th {\n",
       "        text-align: right;\n",
       "    }\n",
       "</style>\n",
       "<table border=\"1\" class=\"dataframe\">\n",
       "  <thead>\n",
       "    <tr style=\"text-align: right;\">\n",
       "      <th></th>\n",
       "      <th>Lat</th>\n",
       "      <th>Long</th>\n",
       "      <th>CP</th>\n",
       "      <th>Δp</th>\n",
       "      <th>Rmax</th>\n",
       "      <th>B</th>\n",
       "      <th>ρ</th>\n",
       "      <th>Ω</th>\n",
       "    </tr>\n",
       "  </thead>\n",
       "  <tbody>\n",
       "    <tr>\n",
       "      <th>0</th>\n",
       "      <td>31.60</td>\n",
       "      <td>78.30</td>\n",
       "      <td>943.00</td>\n",
       "      <td>70.00</td>\n",
       "      <td>38.268623</td>\n",
       "      <td>1.321192</td>\n",
       "      <td>1.15</td>\n",
       "      <td>0.000073</td>\n",
       "    </tr>\n",
       "    <tr>\n",
       "      <th>1</th>\n",
       "      <td>31.66</td>\n",
       "      <td>78.33</td>\n",
       "      <td>942.17</td>\n",
       "      <td>70.83</td>\n",
       "      <td>38.141031</td>\n",
       "      <td>1.321244</td>\n",
       "      <td>1.15</td>\n",
       "      <td>0.000073</td>\n",
       "    </tr>\n",
       "    <tr>\n",
       "      <th>2</th>\n",
       "      <td>31.72</td>\n",
       "      <td>78.35</td>\n",
       "      <td>941.33</td>\n",
       "      <td>71.67</td>\n",
       "      <td>38.008495</td>\n",
       "      <td>1.321324</td>\n",
       "      <td>1.15</td>\n",
       "      <td>0.000073</td>\n",
       "    </tr>\n",
       "    <tr>\n",
       "      <th>3</th>\n",
       "      <td>31.78</td>\n",
       "      <td>78.38</td>\n",
       "      <td>940.50</td>\n",
       "      <td>72.50</td>\n",
       "      <td>37.876494</td>\n",
       "      <td>1.321401</td>\n",
       "      <td>1.15</td>\n",
       "      <td>0.000073</td>\n",
       "    </tr>\n",
       "    <tr>\n",
       "      <th>4</th>\n",
       "      <td>31.83</td>\n",
       "      <td>78.40</td>\n",
       "      <td>939.67</td>\n",
       "      <td>73.33</td>\n",
       "      <td>37.726398</td>\n",
       "      <td>1.321689</td>\n",
       "      <td>1.15</td>\n",
       "      <td>0.000073</td>\n",
       "    </tr>\n",
       "  </tbody>\n",
       "</table>\n",
       "</div>"
      ],
      "text/plain": [
       "     Lat   Long      CP     Δp       Rmax         B     ρ         Ω\n",
       "0  31.60  78.30  943.00  70.00  38.268623  1.321192  1.15  0.000073\n",
       "1  31.66  78.33  942.17  70.83  38.141031  1.321244  1.15  0.000073\n",
       "2  31.72  78.35  941.33  71.67  38.008495  1.321324  1.15  0.000073\n",
       "3  31.78  78.38  940.50  72.50  37.876494  1.321401  1.15  0.000073\n",
       "4  31.83  78.40  939.67  73.33  37.726398  1.321689  1.15  0.000073"
      ]
     },
     "execution_count": 6,
     "metadata": {},
     "output_type": "execute_result"
    }
   ],
   "source": [
    "n.head()"
   ]
  },
  {
   "cell_type": "markdown",
   "metadata": {},
   "source": [
    "### 2. Importing Building Invetory"
   ]
  },
  {
   "cell_type": "code",
   "execution_count": 7,
   "metadata": {},
   "outputs": [],
   "source": [
    "# Importing Building Invetory of Testbed\n",
    "blg=pd.read_csv('Sample_Buildings.csv')"
   ]
  },
  {
   "cell_type": "code",
   "execution_count": 8,
   "metadata": {},
   "outputs": [
    {
     "data": {
      "text/html": [
       "<div>\n",
       "<style scoped>\n",
       "    .dataframe tbody tr th:only-of-type {\n",
       "        vertical-align: middle;\n",
       "    }\n",
       "\n",
       "    .dataframe tbody tr th {\n",
       "        vertical-align: top;\n",
       "    }\n",
       "\n",
       "    .dataframe thead th {\n",
       "        text-align: right;\n",
       "    }\n",
       "</style>\n",
       "<table border=\"1\" class=\"dataframe\">\n",
       "  <thead>\n",
       "    <tr style=\"text-align: right;\">\n",
       "      <th></th>\n",
       "      <th>x</th>\n",
       "      <th>y</th>\n",
       "      <th>Z</th>\n",
       "      <th>id</th>\n",
       "      <th>index</th>\n",
       "      <th>OBJECTID</th>\n",
       "      <th>Type</th>\n",
       "      <th>Shape_Le</th>\n",
       "      <th>Area_ft2</th>\n",
       "      <th>Update_Y</th>\n",
       "      <th>...</th>\n",
       "      <th>LANDUSEDES</th>\n",
       "      <th>YEARBUIL</th>\n",
       "      <th>BASEMENT</th>\n",
       "      <th>STORYHEIGHT</th>\n",
       "      <th>HEATEDSQUA</th>\n",
       "      <th>STRUCTURES1</th>\n",
       "      <th>STRUCTURET</th>\n",
       "      <th>HAZUS</th>\n",
       "      <th>type</th>\n",
       "      <th>STRUCTURES</th>\n",
       "    </tr>\n",
       "  </thead>\n",
       "  <tbody>\n",
       "    <tr>\n",
       "      <th>0</th>\n",
       "      <td>77.518615</td>\n",
       "      <td>34.441515</td>\n",
       "      <td>0</td>\n",
       "      <td>1</td>\n",
       "      <td>1</td>\n",
       "      <td>17196</td>\n",
       "      <td>Building New</td>\n",
       "      <td>274.566915</td>\n",
       "      <td>3326.702519</td>\n",
       "      <td>2016</td>\n",
       "      <td>...</td>\n",
       "      <td>Waterview</td>\n",
       "      <td>2003</td>\n",
       "      <td>NONE</td>\n",
       "      <td>2</td>\n",
       "      <td>6980</td>\n",
       "      <td>Beach Townhome</td>\n",
       "      <td>HARD BOARD (HARDY BOARD)</td>\n",
       "      <td>C26</td>\n",
       "      <td>C26</td>\n",
       "      <td>Beach Townhome</td>\n",
       "    </tr>\n",
       "    <tr>\n",
       "      <th>1</th>\n",
       "      <td>77.517539</td>\n",
       "      <td>34.441661</td>\n",
       "      <td>0</td>\n",
       "      <td>2</td>\n",
       "      <td>2</td>\n",
       "      <td>17197</td>\n",
       "      <td>Building New</td>\n",
       "      <td>156.050220</td>\n",
       "      <td>1446.453330</td>\n",
       "      <td>2016</td>\n",
       "      <td>...</td>\n",
       "      <td>Waterfront Ocean</td>\n",
       "      <td>1962</td>\n",
       "      <td>NONE</td>\n",
       "      <td>1</td>\n",
       "      <td>1214</td>\n",
       "      <td>Beach House</td>\n",
       "      <td>CEDAR/REDWOOD/CYPRESS</td>\n",
       "      <td>A70</td>\n",
       "      <td>A70</td>\n",
       "      <td>Beach House</td>\n",
       "    </tr>\n",
       "    <tr>\n",
       "      <th>2</th>\n",
       "      <td>77.518484</td>\n",
       "      <td>34.441721</td>\n",
       "      <td>0</td>\n",
       "      <td>3</td>\n",
       "      <td>3</td>\n",
       "      <td>17198</td>\n",
       "      <td>Building New</td>\n",
       "      <td>185.065047</td>\n",
       "      <td>1805.217729</td>\n",
       "      <td>2016</td>\n",
       "      <td>...</td>\n",
       "      <td>Waterview</td>\n",
       "      <td>2003</td>\n",
       "      <td>NONE</td>\n",
       "      <td>1</td>\n",
       "      <td>1806</td>\n",
       "      <td>Beach House</td>\n",
       "      <td>ALUMINUM/VINYL</td>\n",
       "      <td>A2</td>\n",
       "      <td>A2</td>\n",
       "      <td>Beach House</td>\n",
       "    </tr>\n",
       "    <tr>\n",
       "      <th>3</th>\n",
       "      <td>77.518277</td>\n",
       "      <td>34.441771</td>\n",
       "      <td>0</td>\n",
       "      <td>4</td>\n",
       "      <td>4</td>\n",
       "      <td>17199</td>\n",
       "      <td>Building New</td>\n",
       "      <td>116.684847</td>\n",
       "      <td>809.593414</td>\n",
       "      <td>2016</td>\n",
       "      <td>...</td>\n",
       "      <td>Waterview</td>\n",
       "      <td>2020</td>\n",
       "      <td>PART</td>\n",
       "      <td>2</td>\n",
       "      <td>3734</td>\n",
       "      <td>Beach House</td>\n",
       "      <td>HARD BOARD (HARDY BOARD)</td>\n",
       "      <td>A18</td>\n",
       "      <td>A18</td>\n",
       "      <td>Beach House</td>\n",
       "    </tr>\n",
       "    <tr>\n",
       "      <th>4</th>\n",
       "      <td>77.518807</td>\n",
       "      <td>34.441739</td>\n",
       "      <td>0</td>\n",
       "      <td>5</td>\n",
       "      <td>5</td>\n",
       "      <td>17200</td>\n",
       "      <td>Building New</td>\n",
       "      <td>274.565998</td>\n",
       "      <td>3326.708935</td>\n",
       "      <td>2016</td>\n",
       "      <td>...</td>\n",
       "      <td>Townhome</td>\n",
       "      <td>2004</td>\n",
       "      <td>NONE</td>\n",
       "      <td>2</td>\n",
       "      <td>6980</td>\n",
       "      <td>Beach Townhome</td>\n",
       "      <td>HARD BOARD (HARDY BOARD)</td>\n",
       "      <td>C26</td>\n",
       "      <td>C26</td>\n",
       "      <td>Beach Townhome</td>\n",
       "    </tr>\n",
       "  </tbody>\n",
       "</table>\n",
       "<p>5 rows × 26 columns</p>\n",
       "</div>"
      ],
      "text/plain": [
       "           x          y  Z  id  index  OBJECTID          Type    Shape_Le  \\\n",
       "0  77.518615  34.441515  0   1      1     17196  Building New  274.566915   \n",
       "1  77.517539  34.441661  0   2      2     17197  Building New  156.050220   \n",
       "2  77.518484  34.441721  0   3      3     17198  Building New  185.065047   \n",
       "3  77.518277  34.441771  0   4      4     17199  Building New  116.684847   \n",
       "4  77.518807  34.441739  0   5      5     17200  Building New  274.565998   \n",
       "\n",
       "      Area_ft2  Update_Y  ...        LANDUSEDES  YEARBUIL  BASEMENT  \\\n",
       "0  3326.702519      2016  ...         Waterview      2003      NONE   \n",
       "1  1446.453330      2016  ...  Waterfront Ocean      1962      NONE   \n",
       "2  1805.217729      2016  ...         Waterview      2003      NONE   \n",
       "3   809.593414      2016  ...         Waterview      2020      PART   \n",
       "4  3326.708935      2016  ...          Townhome      2004      NONE   \n",
       "\n",
       "   STORYHEIGHT  HEATEDSQUA     STRUCTURES1                STRUCTURET  HAZUS  \\\n",
       "0            2        6980  Beach Townhome  HARD BOARD (HARDY BOARD)    C26   \n",
       "1            1        1214     Beach House     CEDAR/REDWOOD/CYPRESS    A70   \n",
       "2            1        1806     Beach House            ALUMINUM/VINYL     A2   \n",
       "3            2        3734     Beach House  HARD BOARD (HARDY BOARD)    A18   \n",
       "4            2        6980  Beach Townhome  HARD BOARD (HARDY BOARD)    C26   \n",
       "\n",
       "  type      STRUCTURES  \n",
       "0  C26  Beach Townhome  \n",
       "1  A70     Beach House  \n",
       "2   A2     Beach House  \n",
       "3  A18     Beach House  \n",
       "4  C26  Beach Townhome  \n",
       "\n",
       "[5 rows x 26 columns]"
      ]
     },
     "execution_count": 8,
     "metadata": {},
     "output_type": "execute_result"
    }
   ],
   "source": [
    "blg.head(5)"
   ]
  },
  {
   "cell_type": "markdown",
   "metadata": {},
   "source": [
    "#### 3. Estimate Wind Intensities for Buildings"
   ]
  },
  {
   "cell_type": "code",
   "execution_count": 9,
   "metadata": {},
   "outputs": [],
   "source": [
    "%run -i Building_Wind_Analysis.py"
   ]
  },
  {
   "cell_type": "code",
   "execution_count": 10,
   "metadata": {},
   "outputs": [
    {
     "data": {
      "text/html": [
       "<div>\n",
       "<style scoped>\n",
       "    .dataframe tbody tr th:only-of-type {\n",
       "        vertical-align: middle;\n",
       "    }\n",
       "\n",
       "    .dataframe tbody tr th {\n",
       "        vertical-align: top;\n",
       "    }\n",
       "\n",
       "    .dataframe thead th {\n",
       "        text-align: right;\n",
       "    }\n",
       "</style>\n",
       "<table border=\"1\" class=\"dataframe\">\n",
       "  <thead>\n",
       "    <tr style=\"text-align: right;\">\n",
       "      <th></th>\n",
       "      <th>x</th>\n",
       "      <th>y</th>\n",
       "      <th>Z</th>\n",
       "      <th>id</th>\n",
       "      <th>index</th>\n",
       "      <th>OBJECTID</th>\n",
       "      <th>Type</th>\n",
       "      <th>Shape_Le</th>\n",
       "      <th>Area_ft2</th>\n",
       "      <th>Update_Y</th>\n",
       "      <th>...</th>\n",
       "      <th>BASEMENT</th>\n",
       "      <th>STORYHEIGHT</th>\n",
       "      <th>HEATEDSQUA</th>\n",
       "      <th>STRUCTURES1</th>\n",
       "      <th>STRUCTURET</th>\n",
       "      <th>HAZUS</th>\n",
       "      <th>type</th>\n",
       "      <th>STRUCTURES</th>\n",
       "      <th>ind</th>\n",
       "      <th>mph</th>\n",
       "    </tr>\n",
       "  </thead>\n",
       "  <tbody>\n",
       "    <tr>\n",
       "      <th>0</th>\n",
       "      <td>77.518615</td>\n",
       "      <td>34.441515</td>\n",
       "      <td>0</td>\n",
       "      <td>1</td>\n",
       "      <td>1</td>\n",
       "      <td>17196</td>\n",
       "      <td>Building New</td>\n",
       "      <td>274.566915</td>\n",
       "      <td>3326.702519</td>\n",
       "      <td>2016</td>\n",
       "      <td>...</td>\n",
       "      <td>NONE</td>\n",
       "      <td>2</td>\n",
       "      <td>6980</td>\n",
       "      <td>Beach Townhome</td>\n",
       "      <td>HARD BOARD (HARDY BOARD)</td>\n",
       "      <td>C26</td>\n",
       "      <td>C26</td>\n",
       "      <td>Beach Townhome</td>\n",
       "      <td>1</td>\n",
       "      <td>151.766929</td>\n",
       "    </tr>\n",
       "    <tr>\n",
       "      <th>1</th>\n",
       "      <td>77.517539</td>\n",
       "      <td>34.441661</td>\n",
       "      <td>0</td>\n",
       "      <td>2</td>\n",
       "      <td>2</td>\n",
       "      <td>17197</td>\n",
       "      <td>Building New</td>\n",
       "      <td>156.050220</td>\n",
       "      <td>1446.453330</td>\n",
       "      <td>2016</td>\n",
       "      <td>...</td>\n",
       "      <td>NONE</td>\n",
       "      <td>1</td>\n",
       "      <td>1214</td>\n",
       "      <td>Beach House</td>\n",
       "      <td>CEDAR/REDWOOD/CYPRESS</td>\n",
       "      <td>A70</td>\n",
       "      <td>A70</td>\n",
       "      <td>Beach House</td>\n",
       "      <td>2</td>\n",
       "      <td>151.793712</td>\n",
       "    </tr>\n",
       "    <tr>\n",
       "      <th>2</th>\n",
       "      <td>77.518484</td>\n",
       "      <td>34.441721</td>\n",
       "      <td>0</td>\n",
       "      <td>3</td>\n",
       "      <td>3</td>\n",
       "      <td>17198</td>\n",
       "      <td>Building New</td>\n",
       "      <td>185.065047</td>\n",
       "      <td>1805.217729</td>\n",
       "      <td>2016</td>\n",
       "      <td>...</td>\n",
       "      <td>NONE</td>\n",
       "      <td>1</td>\n",
       "      <td>1806</td>\n",
       "      <td>Beach House</td>\n",
       "      <td>ALUMINUM/VINYL</td>\n",
       "      <td>A2</td>\n",
       "      <td>A2</td>\n",
       "      <td>Beach House</td>\n",
       "      <td>3</td>\n",
       "      <td>151.761493</td>\n",
       "    </tr>\n",
       "    <tr>\n",
       "      <th>3</th>\n",
       "      <td>77.518277</td>\n",
       "      <td>34.441771</td>\n",
       "      <td>0</td>\n",
       "      <td>4</td>\n",
       "      <td>4</td>\n",
       "      <td>17199</td>\n",
       "      <td>Building New</td>\n",
       "      <td>116.684847</td>\n",
       "      <td>809.593414</td>\n",
       "      <td>2016</td>\n",
       "      <td>...</td>\n",
       "      <td>PART</td>\n",
       "      <td>2</td>\n",
       "      <td>3734</td>\n",
       "      <td>Beach House</td>\n",
       "      <td>HARD BOARD (HARDY BOARD)</td>\n",
       "      <td>A18</td>\n",
       "      <td>A18</td>\n",
       "      <td>Beach House</td>\n",
       "      <td>4</td>\n",
       "      <td>151.765687</td>\n",
       "    </tr>\n",
       "    <tr>\n",
       "      <th>4</th>\n",
       "      <td>77.518807</td>\n",
       "      <td>34.441739</td>\n",
       "      <td>0</td>\n",
       "      <td>5</td>\n",
       "      <td>5</td>\n",
       "      <td>17200</td>\n",
       "      <td>Building New</td>\n",
       "      <td>274.565998</td>\n",
       "      <td>3326.708935</td>\n",
       "      <td>2016</td>\n",
       "      <td>...</td>\n",
       "      <td>NONE</td>\n",
       "      <td>2</td>\n",
       "      <td>6980</td>\n",
       "      <td>Beach Townhome</td>\n",
       "      <td>HARD BOARD (HARDY BOARD)</td>\n",
       "      <td>C26</td>\n",
       "      <td>C26</td>\n",
       "      <td>Beach Townhome</td>\n",
       "      <td>5</td>\n",
       "      <td>151.750580</td>\n",
       "    </tr>\n",
       "  </tbody>\n",
       "</table>\n",
       "<p>5 rows × 28 columns</p>\n",
       "</div>"
      ],
      "text/plain": [
       "           x          y  Z  id  index  OBJECTID          Type    Shape_Le  \\\n",
       "0  77.518615  34.441515  0   1      1     17196  Building New  274.566915   \n",
       "1  77.517539  34.441661  0   2      2     17197  Building New  156.050220   \n",
       "2  77.518484  34.441721  0   3      3     17198  Building New  185.065047   \n",
       "3  77.518277  34.441771  0   4      4     17199  Building New  116.684847   \n",
       "4  77.518807  34.441739  0   5      5     17200  Building New  274.565998   \n",
       "\n",
       "      Area_ft2  Update_Y  ... BASEMENT  STORYHEIGHT  HEATEDSQUA  \\\n",
       "0  3326.702519      2016  ...     NONE            2        6980   \n",
       "1  1446.453330      2016  ...     NONE            1        1214   \n",
       "2  1805.217729      2016  ...     NONE            1        1806   \n",
       "3   809.593414      2016  ...     PART            2        3734   \n",
       "4  3326.708935      2016  ...     NONE            2        6980   \n",
       "\n",
       "      STRUCTURES1                STRUCTURET  HAZUS type      STRUCTURES ind  \\\n",
       "0  Beach Townhome  HARD BOARD (HARDY BOARD)    C26  C26  Beach Townhome   1   \n",
       "1     Beach House     CEDAR/REDWOOD/CYPRESS    A70  A70     Beach House   2   \n",
       "2     Beach House            ALUMINUM/VINYL     A2   A2     Beach House   3   \n",
       "3     Beach House  HARD BOARD (HARDY BOARD)    A18  A18     Beach House   4   \n",
       "4  Beach Townhome  HARD BOARD (HARDY BOARD)    C26  C26  Beach Townhome   5   \n",
       "\n",
       "          mph  \n",
       "0  151.766929  \n",
       "1  151.793712  \n",
       "2  151.761493  \n",
       "3  151.765687  \n",
       "4  151.750580  \n",
       "\n",
       "[5 rows x 28 columns]"
      ]
     },
     "execution_count": 10,
     "metadata": {},
     "output_type": "execute_result"
    }
   ],
   "source": [
    "BlgW.head(5)"
   ]
  },
  {
   "cell_type": "code",
   "execution_count": 11,
   "metadata": {},
   "outputs": [],
   "source": [
    "BlgW.drop(['ind'], axis=1, inplace=True)"
   ]
  },
  {
   "cell_type": "code",
   "execution_count": 12,
   "metadata": {},
   "outputs": [
    {
     "data": {
      "text/plain": [
       "Text(0, 0.5, 'Wind Speed(mph)')"
      ]
     },
     "execution_count": 12,
     "metadata": {},
     "output_type": "execute_result"
    },
    {
     "data": {
      "image/png": "[encoded data removed]",
      "text/plain": [
       "<Figure size 432x288 with 1 Axes>"
      ]
     },
     "metadata": {
      "needs_background": "light"
     },
     "output_type": "display_data"
    }
   ],
   "source": [
    "VG1.plot.line(legend=None)\n",
    "plt.xlabel('Time Step')\n",
    "plt.ylabel('Wind Speed(mph)')"
   ]
  },
  {
   "cell_type": "markdown",
   "metadata": {},
   "source": [
    "### Damage Simulation"
   ]
  },
  {
   "cell_type": "code",
   "execution_count": 13,
   "metadata": {},
   "outputs": [],
   "source": [
    "#Assign random seed\n",
    "seed=1234\n",
    "np.random.seed(seed)"
   ]
  },
  {
   "cell_type": "code",
   "execution_count": 14,
   "metadata": {},
   "outputs": [
    {
     "data": {
      "text/html": [
       "<div>\n",
       "<style scoped>\n",
       "    .dataframe tbody tr th:only-of-type {\n",
       "        vertical-align: middle;\n",
       "    }\n",
       "\n",
       "    .dataframe tbody tr th {\n",
       "        vertical-align: top;\n",
       "    }\n",
       "\n",
       "    .dataframe thead th {\n",
       "        text-align: right;\n",
       "    }\n",
       "</style>\n",
       "<table border=\"1\" class=\"dataframe\">\n",
       "  <thead>\n",
       "    <tr style=\"text-align: right;\">\n",
       "      <th></th>\n",
       "      <th>x</th>\n",
       "      <th>y</th>\n",
       "      <th>Z</th>\n",
       "      <th>id</th>\n",
       "      <th>index</th>\n",
       "      <th>OBJECTID</th>\n",
       "      <th>Type</th>\n",
       "      <th>Shape_Le</th>\n",
       "      <th>Area_ft2</th>\n",
       "      <th>Update_Y</th>\n",
       "      <th>...</th>\n",
       "      <th>YEARBUIL</th>\n",
       "      <th>BASEMENT</th>\n",
       "      <th>STORYHEIGHT</th>\n",
       "      <th>HEATEDSQUA</th>\n",
       "      <th>STRUCTURES1</th>\n",
       "      <th>STRUCTURET</th>\n",
       "      <th>HAZUS</th>\n",
       "      <th>type</th>\n",
       "      <th>STRUCTURES</th>\n",
       "      <th>mph</th>\n",
       "    </tr>\n",
       "  </thead>\n",
       "  <tbody>\n",
       "    <tr>\n",
       "      <th>0</th>\n",
       "      <td>77.518615</td>\n",
       "      <td>34.441515</td>\n",
       "      <td>0</td>\n",
       "      <td>1</td>\n",
       "      <td>1</td>\n",
       "      <td>17196</td>\n",
       "      <td>Building New</td>\n",
       "      <td>274.566915</td>\n",
       "      <td>3326.702519</td>\n",
       "      <td>2016</td>\n",
       "      <td>...</td>\n",
       "      <td>2003</td>\n",
       "      <td>NONE</td>\n",
       "      <td>2</td>\n",
       "      <td>6980</td>\n",
       "      <td>Beach Townhome</td>\n",
       "      <td>HARD BOARD (HARDY BOARD)</td>\n",
       "      <td>C26</td>\n",
       "      <td>C26</td>\n",
       "      <td>Beach Townhome</td>\n",
       "      <td>151.766929</td>\n",
       "    </tr>\n",
       "    <tr>\n",
       "      <th>1</th>\n",
       "      <td>77.517539</td>\n",
       "      <td>34.441661</td>\n",
       "      <td>0</td>\n",
       "      <td>2</td>\n",
       "      <td>2</td>\n",
       "      <td>17197</td>\n",
       "      <td>Building New</td>\n",
       "      <td>156.050220</td>\n",
       "      <td>1446.453330</td>\n",
       "      <td>2016</td>\n",
       "      <td>...</td>\n",
       "      <td>1962</td>\n",
       "      <td>NONE</td>\n",
       "      <td>1</td>\n",
       "      <td>1214</td>\n",
       "      <td>Beach House</td>\n",
       "      <td>CEDAR/REDWOOD/CYPRESS</td>\n",
       "      <td>A70</td>\n",
       "      <td>A70</td>\n",
       "      <td>Beach House</td>\n",
       "      <td>151.793712</td>\n",
       "    </tr>\n",
       "    <tr>\n",
       "      <th>2</th>\n",
       "      <td>77.518484</td>\n",
       "      <td>34.441721</td>\n",
       "      <td>0</td>\n",
       "      <td>3</td>\n",
       "      <td>3</td>\n",
       "      <td>17198</td>\n",
       "      <td>Building New</td>\n",
       "      <td>185.065047</td>\n",
       "      <td>1805.217729</td>\n",
       "      <td>2016</td>\n",
       "      <td>...</td>\n",
       "      <td>2003</td>\n",
       "      <td>NONE</td>\n",
       "      <td>1</td>\n",
       "      <td>1806</td>\n",
       "      <td>Beach House</td>\n",
       "      <td>ALUMINUM/VINYL</td>\n",
       "      <td>A2</td>\n",
       "      <td>A2</td>\n",
       "      <td>Beach House</td>\n",
       "      <td>151.761493</td>\n",
       "    </tr>\n",
       "  </tbody>\n",
       "</table>\n",
       "<p>3 rows × 27 columns</p>\n",
       "</div>"
      ],
      "text/plain": [
       "           x          y  Z  id  index  OBJECTID          Type    Shape_Le  \\\n",
       "0  77.518615  34.441515  0   1      1     17196  Building New  274.566915   \n",
       "1  77.517539  34.441661  0   2      2     17197  Building New  156.050220   \n",
       "2  77.518484  34.441721  0   3      3     17198  Building New  185.065047   \n",
       "\n",
       "      Area_ft2  Update_Y  ... YEARBUIL  BASEMENT  STORYHEIGHT  HEATEDSQUA  \\\n",
       "0  3326.702519      2016  ...     2003      NONE            2        6980   \n",
       "1  1446.453330      2016  ...     1962      NONE            1        1214   \n",
       "2  1805.217729      2016  ...     2003      NONE            1        1806   \n",
       "\n",
       "      STRUCTURES1                STRUCTURET HAZUS  type      STRUCTURES  \\\n",
       "0  Beach Townhome  HARD BOARD (HARDY BOARD)   C26   C26  Beach Townhome   \n",
       "1     Beach House     CEDAR/REDWOOD/CYPRESS   A70   A70     Beach House   \n",
       "2     Beach House            ALUMINUM/VINYL    A2    A2     Beach House   \n",
       "\n",
       "          mph  \n",
       "0  151.766929  \n",
       "1  151.793712  \n",
       "2  151.761493  \n",
       "\n",
       "[3 rows x 27 columns]"
      ]
     },
     "execution_count": 14,
     "metadata": {},
     "output_type": "execute_result"
    }
   ],
   "source": [
    "#Building invetory dataframe\n",
    "node = BlgW\n",
    "node.head(3)"
   ]
  },
  {
   "cell_type": "code",
   "execution_count": 15,
   "metadata": {},
   "outputs": [
    {
     "data": {
      "text/plain": [
       "31"
      ]
     },
     "execution_count": 15,
     "metadata": {},
     "output_type": "execute_result"
    }
   ],
   "source": [
    "#Check - the number of building structural archetypes\n",
    "node.type.value_counts().shape[0]"
   ]
  },
  {
   "cell_type": "code",
   "execution_count": 16,
   "metadata": {},
   "outputs": [],
   "source": [
    "%run -i Damage_Simulation"
   ]
  },
  {
   "cell_type": "code",
   "execution_count": 17,
   "metadata": {},
   "outputs": [
    {
     "data": {
      "text/html": [
       "<div>\n",
       "<style scoped>\n",
       "    .dataframe tbody tr th:only-of-type {\n",
       "        vertical-align: middle;\n",
       "    }\n",
       "\n",
       "    .dataframe tbody tr th {\n",
       "        vertical-align: top;\n",
       "    }\n",
       "\n",
       "    .dataframe thead th {\n",
       "        text-align: right;\n",
       "    }\n",
       "</style>\n",
       "<table border=\"1\" class=\"dataframe\">\n",
       "  <thead>\n",
       "    <tr style=\"text-align: right;\">\n",
       "      <th></th>\n",
       "      <th>x</th>\n",
       "      <th>y</th>\n",
       "      <th>Z</th>\n",
       "      <th>id</th>\n",
       "      <th>index</th>\n",
       "      <th>OBJECTID</th>\n",
       "      <th>Type</th>\n",
       "      <th>Shape_Le</th>\n",
       "      <th>Area_ft2</th>\n",
       "      <th>Update_Y</th>\n",
       "      <th>...</th>\n",
       "      <th>type</th>\n",
       "      <th>STRUCTURES</th>\n",
       "      <th>mph</th>\n",
       "      <th>DS1</th>\n",
       "      <th>DS2</th>\n",
       "      <th>DS3</th>\n",
       "      <th>DS4</th>\n",
       "      <th>dmg</th>\n",
       "      <th>kmh</th>\n",
       "      <th>Dislocation</th>\n",
       "    </tr>\n",
       "  </thead>\n",
       "  <tbody>\n",
       "    <tr>\n",
       "      <th>0</th>\n",
       "      <td>77.518615</td>\n",
       "      <td>34.441515</td>\n",
       "      <td>0</td>\n",
       "      <td>1</td>\n",
       "      <td>1</td>\n",
       "      <td>17196</td>\n",
       "      <td>Building New</td>\n",
       "      <td>274.566915</td>\n",
       "      <td>3326.702519</td>\n",
       "      <td>2016</td>\n",
       "      <td>...</td>\n",
       "      <td>C26</td>\n",
       "      <td>Beach Townhome</td>\n",
       "      <td>151.766929</td>\n",
       "      <td>0.995395</td>\n",
       "      <td>0.968873</td>\n",
       "      <td>0.886247</td>\n",
       "      <td>0.6533</td>\n",
       "      <td>4</td>\n",
       "      <td>244.344756</td>\n",
       "      <td>1</td>\n",
       "    </tr>\n",
       "    <tr>\n",
       "      <th>1</th>\n",
       "      <td>77.517539</td>\n",
       "      <td>34.441661</td>\n",
       "      <td>0</td>\n",
       "      <td>2</td>\n",
       "      <td>2</td>\n",
       "      <td>17197</td>\n",
       "      <td>Building New</td>\n",
       "      <td>156.050220</td>\n",
       "      <td>1446.453330</td>\n",
       "      <td>2016</td>\n",
       "      <td>...</td>\n",
       "      <td>A70</td>\n",
       "      <td>Beach House</td>\n",
       "      <td>151.793712</td>\n",
       "      <td>0.921588</td>\n",
       "      <td>0.471724</td>\n",
       "      <td>0.096965</td>\n",
       "      <td>0.004385</td>\n",
       "      <td>2</td>\n",
       "      <td>244.387876</td>\n",
       "      <td>0</td>\n",
       "    </tr>\n",
       "    <tr>\n",
       "      <th>2</th>\n",
       "      <td>77.518484</td>\n",
       "      <td>34.441721</td>\n",
       "      <td>0</td>\n",
       "      <td>3</td>\n",
       "      <td>3</td>\n",
       "      <td>17198</td>\n",
       "      <td>Building New</td>\n",
       "      <td>185.065047</td>\n",
       "      <td>1805.217729</td>\n",
       "      <td>2016</td>\n",
       "      <td>...</td>\n",
       "      <td>A2</td>\n",
       "      <td>Beach House</td>\n",
       "      <td>151.761493</td>\n",
       "      <td>0.980637</td>\n",
       "      <td>0.869656</td>\n",
       "      <td>0.509513</td>\n",
       "      <td>0.169325</td>\n",
       "      <td>3</td>\n",
       "      <td>244.336004</td>\n",
       "      <td>1</td>\n",
       "    </tr>\n",
       "    <tr>\n",
       "      <th>3</th>\n",
       "      <td>77.518277</td>\n",
       "      <td>34.441771</td>\n",
       "      <td>0</td>\n",
       "      <td>4</td>\n",
       "      <td>4</td>\n",
       "      <td>17199</td>\n",
       "      <td>Building New</td>\n",
       "      <td>116.684847</td>\n",
       "      <td>809.593414</td>\n",
       "      <td>2016</td>\n",
       "      <td>...</td>\n",
       "      <td>A18</td>\n",
       "      <td>Beach House</td>\n",
       "      <td>151.765687</td>\n",
       "      <td>0.997125</td>\n",
       "      <td>0.980053</td>\n",
       "      <td>0.878562</td>\n",
       "      <td>0.627313</td>\n",
       "      <td>4</td>\n",
       "      <td>244.342756</td>\n",
       "      <td>1</td>\n",
       "    </tr>\n",
       "    <tr>\n",
       "      <th>4</th>\n",
       "      <td>77.518807</td>\n",
       "      <td>34.441739</td>\n",
       "      <td>0</td>\n",
       "      <td>5</td>\n",
       "      <td>5</td>\n",
       "      <td>17200</td>\n",
       "      <td>Building New</td>\n",
       "      <td>274.565998</td>\n",
       "      <td>3326.708935</td>\n",
       "      <td>2016</td>\n",
       "      <td>...</td>\n",
       "      <td>C26</td>\n",
       "      <td>Beach Townhome</td>\n",
       "      <td>151.750580</td>\n",
       "      <td>0.995385</td>\n",
       "      <td>0.968815</td>\n",
       "      <td>0.886058</td>\n",
       "      <td>0.652902</td>\n",
       "      <td>4</td>\n",
       "      <td>244.318434</td>\n",
       "      <td>1</td>\n",
       "    </tr>\n",
       "  </tbody>\n",
       "</table>\n",
       "<p>5 rows × 34 columns</p>\n",
       "</div>"
      ],
      "text/plain": [
       "           x          y  Z  id  index  OBJECTID          Type    Shape_Le  \\\n",
       "0  77.518615  34.441515  0   1      1     17196  Building New  274.566915   \n",
       "1  77.517539  34.441661  0   2      2     17197  Building New  156.050220   \n",
       "2  77.518484  34.441721  0   3      3     17198  Building New  185.065047   \n",
       "3  77.518277  34.441771  0   4      4     17199  Building New  116.684847   \n",
       "4  77.518807  34.441739  0   5      5     17200  Building New  274.565998   \n",
       "\n",
       "      Area_ft2  Update_Y  ... type      STRUCTURES         mph       DS1  \\\n",
       "0  3326.702519      2016  ...  C26  Beach Townhome  151.766929  0.995395   \n",
       "1  1446.453330      2016  ...  A70     Beach House  151.793712  0.921588   \n",
       "2  1805.217729      2016  ...   A2     Beach House  151.761493  0.980637   \n",
       "3   809.593414      2016  ...  A18     Beach House  151.765687  0.997125   \n",
       "4  3326.708935      2016  ...  C26  Beach Townhome  151.750580  0.995385   \n",
       "\n",
       "        DS2       DS3       DS4  dmg         kmh  Dislocation  \n",
       "0  0.968873  0.886247    0.6533    4  244.344756            1  \n",
       "1  0.471724  0.096965  0.004385    2  244.387876            0  \n",
       "2  0.869656  0.509513  0.169325    3  244.336004            1  \n",
       "3  0.980053  0.878562  0.627313    4  244.342756            1  \n",
       "4  0.968815  0.886058  0.652902    4  244.318434            1  \n",
       "\n",
       "[5 rows x 34 columns]"
      ]
     },
     "execution_count": 17,
     "metadata": {},
     "output_type": "execute_result"
    }
   ],
   "source": [
    "dmg.head()"
   ]
  },
  {
   "cell_type": "code",
   "execution_count": 18,
   "metadata": {},
   "outputs": [
    {
     "data": {
      "image/png": "[encoded data removed]",
      "text/plain": [
       "<Figure size 432x288 with 2 Axes>"
      ]
     },
     "metadata": {
      "needs_background": "light"
     },
     "output_type": "display_data"
    }
   ],
   "source": [
    "#Plotting Damage States\n",
    "x = dmg.x*1\n",
    "y = dmg.y\n",
    "fig = plt.figure(figsize=(6,4))\n",
    "plt.scatter(-x, y, c=dmg.dmg, s=1)\n",
    "plt.spring()\n",
    "plt.colorbar(label='DS')\n",
    "# plt.axis(aspect='equal')\n",
    "plt.xlabel('longitude')\n",
    "plt.ylabel('latitude')\n",
    "plt.title('Damage States');\n",
    "plt.show()"
   ]
  },
  {
   "cell_type": "code",
   "execution_count": 19,
   "metadata": {},
   "outputs": [],
   "source": [
    "# dmg.to_csv('Output/Helene_out.csv')"
   ]
  },
  {
   "cell_type": "markdown",
   "metadata": {},
   "source": [
    "### Social Impact Estimation"
   ]
  },
  {
   "cell_type": "code",
   "execution_count": 20,
   "metadata": {},
   "outputs": [
    {
     "data": {
      "text/plain": [
       "(473, 0.473)"
      ]
     },
     "execution_count": 20,
     "metadata": {},
     "output_type": "execute_result"
    }
   ],
   "source": [
    "# no. of dislocated buildings\n",
    "n_dis=dmg[dmg.dmg>2].shape[0]\n",
    "\n",
    "# no. of dislocated persons\n",
    "dis_percent=dmg[dmg.dmg>2].shape[0]/dmg.dmg.value_counts().sum()\n",
    "n_dis, dis_percent"
   ]
  },
  {
   "cell_type": "code",
   "execution_count": 21,
   "metadata": {},
   "outputs": [
    {
     "data": {
      "text/plain": [
       "(974, 0.974)"
      ]
     },
     "execution_count": 21,
     "metadata": {},
     "output_type": "execute_result"
    }
   ],
   "source": [
    "n_damaged=dmg.dmg.value_counts().sum()-dmg[dmg.dmg==0].shape[0]\n",
    "# damaged households(%)\n",
    "d_percent=1-(dmg[dmg.dmg==0].shape[0]/dmg.dmg.value_counts().sum())\n",
    "n_damaged, d_percent"
   ]
  },
  {
   "cell_type": "code",
   "execution_count": 22,
   "metadata": {},
   "outputs": [],
   "source": [
    "#Sort Res Building DataFrame\n",
    "res=dmg[dmg.STRUCTURES.isin(['Single Family','Multi-Section MH','Beach House','Singlewide M/H','Duplex','Town Home','Beach Duplex',\n",
    "                            'Condominium','Beach Townhome','Multi-Family','Beach Condo','Apartment','Mixed Use Res/Com'])]"
   ]
  },
  {
   "cell_type": "code",
   "execution_count": 23,
   "metadata": {},
   "outputs": [],
   "source": [
    "#Sort Office Buildings\n",
    "office=dmg[dmg.STRUCTURES.isin(['RETAIL','OFFICES/SERVICES','AUTO SERVICE','WAR_S','WAR_D','SPECIAL/INSTITUTIONAL',\n",
    "                                'RESTAURANT','PUBLIC BUILDINGS','MEDICAL BUILDING','CONVERSION','MOTEL','PS','DC',\n",
    "                                'K12','THEATER/RECREATION'])]"
   ]
  },
  {
   "cell_type": "code",
   "execution_count": 24,
   "metadata": {},
   "outputs": [
    {
     "data": {
      "text/plain": [
       "(0, 34)"
      ]
     },
     "execution_count": 24,
     "metadata": {},
     "output_type": "execute_result"
    }
   ],
   "source": [
    "dis_office=office[office.dmg>2]\n",
    "dis_office.shape"
   ]
  },
  {
   "cell_type": "code",
   "execution_count": 25,
   "metadata": {},
   "outputs": [
    {
     "data": {
      "text/plain": [
       "(0, 34)"
      ]
     },
     "execution_count": 25,
     "metadata": {},
     "output_type": "execute_result"
    }
   ],
   "source": [
    "#Sort School Buildings\n",
    "school=dmg[dmg.STRUCTURES.isin(['PS','DC','K12'])]\n",
    "school.shape"
   ]
  },
  {
   "cell_type": "code",
   "execution_count": 26,
   "metadata": {},
   "outputs": [
    {
     "data": {
      "text/plain": [
       "(0, 34)"
      ]
     },
     "execution_count": 26,
     "metadata": {},
     "output_type": "execute_result"
    }
   ],
   "source": [
    "dis_school=school[school.dmg>2]\n",
    "dis_school.shape"
   ]
  },
  {
   "cell_type": "code",
   "execution_count": 27,
   "metadata": {},
   "outputs": [
    {
     "data": {
      "text/plain": [
       "1000"
      ]
     },
     "execution_count": 27,
     "metadata": {},
     "output_type": "execute_result"
    }
   ],
   "source": [
    "#Total Buildings\n",
    "t_building=res.shape[0]+office.shape[0]\n",
    "t_building"
   ]
  },
  {
   "cell_type": "markdown",
   "metadata": {},
   "source": [
    "#### Dislocated population"
   ]
  },
  {
   "cell_type": "code",
   "execution_count": 28,
   "metadata": {},
   "outputs": [
    {
     "data": {
      "text/plain": [
       "(473, 34)"
      ]
     },
     "execution_count": 28,
     "metadata": {},
     "output_type": "execute_result"
    }
   ],
   "source": [
    "dis_res=res[res.dmg>2]\n",
    "dis_res.shape"
   ]
  },
  {
   "cell_type": "code",
   "execution_count": 29,
   "metadata": {},
   "outputs": [
    {
     "data": {
      "text/plain": [
       "549"
      ]
     },
     "execution_count": 29,
     "metadata": {},
     "output_type": "execute_result"
    }
   ],
   "source": [
    "#No. of dislocated Units\n",
    "No_dis_unit=dis_res['No. of housing units'].sum()\n",
    "No_dis_unit"
   ]
  },
  {
   "cell_type": "code",
   "execution_count": 30,
   "metadata": {},
   "outputs": [
    {
     "data": {
      "text/plain": [
       "1493.2800000000002"
      ]
     },
     "execution_count": 30,
     "metadata": {},
     "output_type": "execute_result"
    }
   ],
   "source": [
    "# No. of dislocated population\n",
    "No_dis_ppl=dis_res['No. of housing units'].sum()*2.72\n",
    "No_dis_ppl"
   ]
  },
  {
   "cell_type": "markdown",
   "metadata": {},
   "source": [
    "#### Employment disruption"
   ]
  },
  {
   "cell_type": "code",
   "execution_count": 31,
   "metadata": {},
   "outputs": [],
   "source": [
    "dlo=dmg[dmg.dmg>2]"
   ]
  },
  {
   "cell_type": "code",
   "execution_count": 32,
   "metadata": {},
   "outputs": [],
   "source": [
    "n_cov=(dlo[(dlo.STRUCTURES=='CONVERSION')].Area_ft2/750).round(0).sum()\n",
    "n_pub=(dlo[(dlo.STRUCTURES=='PUBLIC BUILDINGS')].Area_ft2/750).round(0).sum()\n",
    "n_spe=(dlo[(dlo.STRUCTURES=='SPECIAL/INSTITUTIONAL')].Area_ft2/3000).round(0).sum()\n",
    "n_the=(dlo[(dlo.STRUCTURES=='THEATER/RECREATION ')].Area_ft2/1500).round(0).sum()\n",
    "n_auto=(dlo[(dlo.STRUCTURES=='AUTO SERVICE')].Area_ft2/600).round(0).sum()\n",
    "n_htl=(dlo[(dlo.STRUCTURES=='HOTEL/CLUB')].Area_ft2/1500).round(0).sum()\n",
    "n_mdl=(dlo[(dlo.STRUCTURES=='MEDICAL BUILDING')].Area_ft2/225).round(0).sum()\n",
    "n_mtl=(dlo[(dlo.STRUCTURES=='MOTEL')].Area_ft2/1500).round(0).sum()\n",
    "n_off=(dlo[(dlo.STRUCTURES=='OFFICES/SERVICES')].Area_ft2/250).round(0).sum()\n",
    "n_res=(dlo[(dlo.STRUCTURES=='RESTAURANT')].Area_ft2/435).round(0).sum()\n",
    "n_ret=(dlo[(dlo.STRUCTURES=='RETAIL')].Area_ft2/550).round(0).sum()\n",
    "n_dc=(dlo[(dlo.STRUCTURES=='DC')].Area_ft2/630).round(0).sum()\n",
    "n_12=(dlo[(dlo.STRUCTURES=='K12')].Area_ft2/1300).round(0).sum()\n",
    "n_ps=(dlo[(dlo.STRUCTURES=='PS')].Area_ft2/2100).round(0).sum()\n",
    "n_wd=(dlo[(dlo.STRUCTURES=='WAR_D')].Area_ft2/2500).round(0).sum()\n",
    "n_ws=(dlo[(dlo.STRUCTURES=='WAR_S ')].Area_ft2/20000).round(0).sum()"
   ]
  },
  {
   "cell_type": "code",
   "execution_count": 33,
   "metadata": {},
   "outputs": [
    {
     "data": {
      "text/plain": [
       "0.0"
      ]
     },
     "execution_count": 33,
     "metadata": {},
     "output_type": "execute_result"
    }
   ],
   "source": [
    "# No. of employment impacted\n",
    "N_uEmy=n_cov+n_pub+n_spe+n_the+n_auto+n_htl+n_mdl+n_mtl+n_off+n_res+n_ret+n_dc+n_12+n_ps+n_wd+n_ws\n",
    "N_uEmy"
   ]
  },
  {
   "cell_type": "markdown",
   "metadata": {},
   "source": [
    "#### Education Closure"
   ]
  },
  {
   "cell_type": "code",
   "execution_count": 34,
   "metadata": {},
   "outputs": [
    {
     "data": {
      "text/plain": [
       "0.0"
      ]
     },
     "execution_count": 34,
     "metadata": {},
     "output_type": "execute_result"
    }
   ],
   "source": [
    "#Num of Students Impacted\n",
    "s_ds=(dlo[(dlo.STRUCTURES=='DC')].Area_ft2/550).round(0).sum()\n",
    "s_12=(dlo[(dlo.STRUCTURES=='K12')].Area_ft2/140).round(0).sum()\n",
    "s_ps=(dlo[(dlo.STRUCTURES=='PS')].Area_ft2/150).round(0).sum()\n",
    "N_sImp=s_ds+s_12+s_ps\n",
    "N_sImp"
   ]
  },
  {
   "cell_type": "markdown",
   "metadata": {},
   "source": [
    "#### Damage Ratio and Cost Analysis"
   ]
  },
  {
   "cell_type": "code",
   "execution_count": 35,
   "metadata": {},
   "outputs": [],
   "source": [
    "%run -i Cost_Analysis.py"
   ]
  },
  {
   "cell_type": "code",
   "execution_count": 36,
   "metadata": {},
   "outputs": [
    {
     "data": {
      "text/plain": [
       "110.1573299986035"
      ]
     },
     "execution_count": 36,
     "metadata": {},
     "output_type": "execute_result"
    }
   ],
   "source": [
    "#Total Cost in Millon $USD\n",
    "sum(RCost)/1000000"
   ]
  },
  {
   "cell_type": "code",
   "execution_count": 37,
   "metadata": {},
   "outputs": [],
   "source": [
    "V3=list(dmg.id)\n",
    "x=list(-dmg.x)\n",
    "y=list(dmg.y)\n",
    "vv= list(DRatio)\n",
    "pf = {'id':V3,'x':x, 'y':y,'DR':vv}\n",
    "dr=pd.DataFrame(pf)"
   ]
  },
  {
   "cell_type": "code",
   "execution_count": 38,
   "metadata": {},
   "outputs": [],
   "source": [
    "# dr.to_csv('DR_Helene.csv')"
   ]
  },
  {
   "cell_type": "code",
   "execution_count": 39,
   "metadata": {},
   "outputs": [],
   "source": [
    "end = time.time()"
   ]
  },
  {
   "cell_type": "code",
   "execution_count": 40,
   "metadata": {},
   "outputs": [
    {
     "name": "stdout",
     "output_type": "stream",
     "text": [
      "Analysis time: 0.060764368375142416 min\n"
     ]
    }
   ],
   "source": [
    "t_time=end-start\n",
    "print ('Analysis time:', t_time/60, 'min')"
   ]
  }
 ],
 "metadata": {
  "kernelspec": {
   "display_name": "Python 3 (ipykernel)",
   "language": "python",
   "name": "python3"
  },
  "language_info": {
   "codemirror_mode": {
    "name": "ipython",
    "version": 3
   },
   "file_extension": ".py",
   "mimetype": "text/x-python",
   "name": "python",
   "nbconvert_exporter": "python",
   "pygments_lexer": "ipython3",
   "version": "3.9.7"
  }
 },
 "nbformat": 4,
 "nbformat_minor": 4
}
